{
 "cells": [
  {
   "cell_type": "code",
   "execution_count": 1,
   "metadata": {},
   "outputs": [],
   "source": [
    "import pandas as pd\n",
    "import numpy as np\n",
    "import matplotlib.pyplot as plt\n",
    "import seaborn as sns\n",
    "from  matplotlib.colors import LinearSegmentedColormap\n",
    "\n",
    "data1 = pd.read_csv('CS_ACP_CC.csv',encoding='big5')"
   ]
  },
  {
   "cell_type": "code",
   "execution_count": 3,
   "metadata": {},
   "outputs": [
    {
     "data": {
      "text/html": [
       "<div>\n",
       "<style scoped>\n",
       "    .dataframe tbody tr th:only-of-type {\n",
       "        vertical-align: middle;\n",
       "    }\n",
       "\n",
       "    .dataframe tbody tr th {\n",
       "        vertical-align: top;\n",
       "    }\n",
       "\n",
       "    .dataframe thead th {\n",
       "        text-align: right;\n",
       "    }\n",
       "</style>\n",
       "<table border=\"1\" class=\"dataframe\">\n",
       "  <thead>\n",
       "    <tr style=\"text-align: right;\">\n",
       "      <th></th>\n",
       "      <th>Type</th>\n",
       "      <th>Concentration</th>\n",
       "      <th>info_1</th>\n",
       "      <th>Wavelength_1</th>\n",
       "      <th>Wavelength_2</th>\n",
       "      <th>Wavelength_3</th>\n",
       "      <th>Wavelength_4</th>\n",
       "      <th>Wavelength_5</th>\n",
       "      <th>Wavelength_6</th>\n",
       "      <th>Wavelength_7</th>\n",
       "      <th>...</th>\n",
       "      <th>Wavelength_16</th>\n",
       "      <th>Wavelength_17</th>\n",
       "      <th>Wavelength_18</th>\n",
       "      <th>Wavelength_19</th>\n",
       "      <th>Wavelength_20</th>\n",
       "      <th>Wavelength_21</th>\n",
       "      <th>Wavelength_22</th>\n",
       "      <th>Wavelength_23</th>\n",
       "      <th>Wavelength_24</th>\n",
       "      <th>Wavelength_25</th>\n",
       "    </tr>\n",
       "  </thead>\n",
       "  <tbody>\n",
       "    <tr>\n",
       "      <th>415</th>\n",
       "      <td>Normals</td>\n",
       "      <td>411.273</td>\n",
       "      <td>10180503CG400PS</td>\n",
       "      <td>-0.070102</td>\n",
       "      <td>-0.056363</td>\n",
       "      <td>-0.034168</td>\n",
       "      <td>-0.021982</td>\n",
       "      <td>-0.019137</td>\n",
       "      <td>-0.007426</td>\n",
       "      <td>-0.006071</td>\n",
       "      <td>...</td>\n",
       "      <td>0.014508</td>\n",
       "      <td>0.021201</td>\n",
       "      <td>0.029837</td>\n",
       "      <td>0.033863</td>\n",
       "      <td>0.026391</td>\n",
       "      <td>0.026677</td>\n",
       "      <td>0.036831</td>\n",
       "      <td>0.051159</td>\n",
       "      <td>0.070673</td>\n",
       "      <td>0.054024</td>\n",
       "    </tr>\n",
       "    <tr>\n",
       "      <th>328</th>\n",
       "      <td>Normals</td>\n",
       "      <td>383.364</td>\n",
       "      <td>060008BG375PS</td>\n",
       "      <td>-0.078260</td>\n",
       "      <td>-0.063414</td>\n",
       "      <td>-0.038820</td>\n",
       "      <td>-0.025040</td>\n",
       "      <td>-0.022027</td>\n",
       "      <td>-0.010378</td>\n",
       "      <td>-0.009738</td>\n",
       "      <td>...</td>\n",
       "      <td>0.018222</td>\n",
       "      <td>0.023866</td>\n",
       "      <td>0.032182</td>\n",
       "      <td>0.036438</td>\n",
       "      <td>0.027838</td>\n",
       "      <td>0.026402</td>\n",
       "      <td>0.036376</td>\n",
       "      <td>0.056862</td>\n",
       "      <td>0.081358</td>\n",
       "      <td>0.062855</td>\n",
       "    </tr>\n",
       "    <tr>\n",
       "      <th>1278</th>\n",
       "      <td>Cowley_R1</td>\n",
       "      <td>100.725</td>\n",
       "      <td>038_03</td>\n",
       "      <td>-0.046835</td>\n",
       "      <td>-0.034076</td>\n",
       "      <td>-0.019381</td>\n",
       "      <td>-0.011958</td>\n",
       "      <td>-0.009680</td>\n",
       "      <td>-0.003616</td>\n",
       "      <td>-0.004590</td>\n",
       "      <td>...</td>\n",
       "      <td>0.006444</td>\n",
       "      <td>0.010447</td>\n",
       "      <td>0.016563</td>\n",
       "      <td>0.021562</td>\n",
       "      <td>0.019059</td>\n",
       "      <td>0.022110</td>\n",
       "      <td>0.031979</td>\n",
       "      <td>0.036354</td>\n",
       "      <td>0.045266</td>\n",
       "      <td>0.034171</td>\n",
       "    </tr>\n",
       "    <tr>\n",
       "      <th>1007</th>\n",
       "      <td>Cowley_R1</td>\n",
       "      <td>108.500</td>\n",
       "      <td>053_06</td>\n",
       "      <td>-0.066525</td>\n",
       "      <td>-0.051382</td>\n",
       "      <td>-0.030909</td>\n",
       "      <td>-0.017882</td>\n",
       "      <td>-0.012264</td>\n",
       "      <td>-0.001962</td>\n",
       "      <td>-0.002363</td>\n",
       "      <td>...</td>\n",
       "      <td>0.011423</td>\n",
       "      <td>0.013445</td>\n",
       "      <td>0.019489</td>\n",
       "      <td>0.024776</td>\n",
       "      <td>0.020002</td>\n",
       "      <td>0.019834</td>\n",
       "      <td>0.029863</td>\n",
       "      <td>0.046543</td>\n",
       "      <td>0.067063</td>\n",
       "      <td>0.054153</td>\n",
       "    </tr>\n",
       "    <tr>\n",
       "      <th>27</th>\n",
       "      <td>Normals</td>\n",
       "      <td>161.818</td>\n",
       "      <td>12080502CG150PS</td>\n",
       "      <td>-0.073169</td>\n",
       "      <td>-0.062700</td>\n",
       "      <td>-0.046411</td>\n",
       "      <td>-0.033502</td>\n",
       "      <td>-0.027367</td>\n",
       "      <td>-0.016360</td>\n",
       "      <td>-0.014304</td>\n",
       "      <td>...</td>\n",
       "      <td>0.020534</td>\n",
       "      <td>0.025270</td>\n",
       "      <td>0.033192</td>\n",
       "      <td>0.037815</td>\n",
       "      <td>0.030669</td>\n",
       "      <td>0.030159</td>\n",
       "      <td>0.040489</td>\n",
       "      <td>0.054960</td>\n",
       "      <td>0.076161</td>\n",
       "      <td>0.060811</td>\n",
       "    </tr>\n",
       "  </tbody>\n",
       "</table>\n",
       "<p>5 rows × 28 columns</p>\n",
       "</div>"
      ],
      "text/plain": [
       "           Type  Concentration           info_1  Wavelength_1  Wavelength_2  \\\n",
       "415     Normals        411.273  10180503CG400PS     -0.070102     -0.056363   \n",
       "328     Normals        383.364    060008BG375PS     -0.078260     -0.063414   \n",
       "1278  Cowley_R1        100.725           038_03     -0.046835     -0.034076   \n",
       "1007  Cowley_R1        108.500           053_06     -0.066525     -0.051382   \n",
       "27      Normals        161.818  12080502CG150PS     -0.073169     -0.062700   \n",
       "\n",
       "      Wavelength_3  Wavelength_4  Wavelength_5  Wavelength_6  Wavelength_7  \\\n",
       "415      -0.034168     -0.021982     -0.019137     -0.007426     -0.006071   \n",
       "328      -0.038820     -0.025040     -0.022027     -0.010378     -0.009738   \n",
       "1278     -0.019381     -0.011958     -0.009680     -0.003616     -0.004590   \n",
       "1007     -0.030909     -0.017882     -0.012264     -0.001962     -0.002363   \n",
       "27       -0.046411     -0.033502     -0.027367     -0.016360     -0.014304   \n",
       "\n",
       "      ...  Wavelength_16  Wavelength_17  Wavelength_18  Wavelength_19  \\\n",
       "415   ...       0.014508       0.021201       0.029837       0.033863   \n",
       "328   ...       0.018222       0.023866       0.032182       0.036438   \n",
       "1278  ...       0.006444       0.010447       0.016563       0.021562   \n",
       "1007  ...       0.011423       0.013445       0.019489       0.024776   \n",
       "27    ...       0.020534       0.025270       0.033192       0.037815   \n",
       "\n",
       "      Wavelength_20  Wavelength_21  Wavelength_22  Wavelength_23  \\\n",
       "415        0.026391       0.026677       0.036831       0.051159   \n",
       "328        0.027838       0.026402       0.036376       0.056862   \n",
       "1278       0.019059       0.022110       0.031979       0.036354   \n",
       "1007       0.020002       0.019834       0.029863       0.046543   \n",
       "27         0.030669       0.030159       0.040489       0.054960   \n",
       "\n",
       "      Wavelength_24  Wavelength_25  \n",
       "415        0.070673       0.054024  \n",
       "328        0.081358       0.062855  \n",
       "1278       0.045266       0.034171  \n",
       "1007       0.067063       0.054153  \n",
       "27         0.076161       0.060811  \n",
       "\n",
       "[5 rows x 28 columns]"
      ]
     },
     "execution_count": 3,
     "metadata": {},
     "output_type": "execute_result"
    }
   ],
   "source": [
    "##Rename column of data set\n",
    "data1.rename(columns={\"ID\":\"Type\",\"ysiT\":\"Concentration\"},inplace=True)\n",
    "data1.sample(5)   "
   ]
  },
  {
   "cell_type": "code",
   "execution_count": 4,
   "metadata": {},
   "outputs": [
    {
     "data": {
      "text/html": [
       "<div>\n",
       "<style scoped>\n",
       "    .dataframe tbody tr th:only-of-type {\n",
       "        vertical-align: middle;\n",
       "    }\n",
       "\n",
       "    .dataframe tbody tr th {\n",
       "        vertical-align: top;\n",
       "    }\n",
       "\n",
       "    .dataframe thead th {\n",
       "        text-align: right;\n",
       "    }\n",
       "</style>\n",
       "<table border=\"1\" class=\"dataframe\">\n",
       "  <thead>\n",
       "    <tr style=\"text-align: right;\">\n",
       "      <th></th>\n",
       "      <th>Type</th>\n",
       "      <th>Concentration</th>\n",
       "      <th>info_1</th>\n",
       "      <th>Wavelength_1</th>\n",
       "      <th>Wavelength_2</th>\n",
       "      <th>Wavelength_3</th>\n",
       "      <th>Wavelength_4</th>\n",
       "      <th>Wavelength_5</th>\n",
       "      <th>Wavelength_6</th>\n",
       "      <th>Wavelength_7</th>\n",
       "      <th>...</th>\n",
       "      <th>Wavelength_16</th>\n",
       "      <th>Wavelength_17</th>\n",
       "      <th>Wavelength_18</th>\n",
       "      <th>Wavelength_19</th>\n",
       "      <th>Wavelength_20</th>\n",
       "      <th>Wavelength_21</th>\n",
       "      <th>Wavelength_22</th>\n",
       "      <th>Wavelength_23</th>\n",
       "      <th>Wavelength_24</th>\n",
       "      <th>Wavelength_25</th>\n",
       "    </tr>\n",
       "  </thead>\n",
       "  <tbody>\n",
       "    <tr>\n",
       "      <th>0</th>\n",
       "      <td>Cowley_R1</td>\n",
       "      <td>101.40</td>\n",
       "      <td>111-07</td>\n",
       "      <td>-0.056660</td>\n",
       "      <td>-0.034281</td>\n",
       "      <td>-0.014557</td>\n",
       "      <td>-0.007463</td>\n",
       "      <td>-0.004063</td>\n",
       "      <td>0.002785</td>\n",
       "      <td>0.001763</td>\n",
       "      <td>...</td>\n",
       "      <td>0.004577</td>\n",
       "      <td>0.007467</td>\n",
       "      <td>0.014168</td>\n",
       "      <td>0.020039</td>\n",
       "      <td>0.017172</td>\n",
       "      <td>0.019253</td>\n",
       "      <td>0.030499</td>\n",
       "      <td>0.039517</td>\n",
       "      <td>0.053933</td>\n",
       "      <td>0.042249</td>\n",
       "    </tr>\n",
       "    <tr>\n",
       "      <th>1</th>\n",
       "      <td>Cowley_R1</td>\n",
       "      <td>113.25</td>\n",
       "      <td>120-03</td>\n",
       "      <td>-0.043606</td>\n",
       "      <td>-0.023467</td>\n",
       "      <td>-0.006303</td>\n",
       "      <td>-0.002042</td>\n",
       "      <td>-0.001027</td>\n",
       "      <td>0.004096</td>\n",
       "      <td>0.003374</td>\n",
       "      <td>...</td>\n",
       "      <td>-0.000642</td>\n",
       "      <td>0.004463</td>\n",
       "      <td>0.011616</td>\n",
       "      <td>0.016680</td>\n",
       "      <td>0.013824</td>\n",
       "      <td>0.015516</td>\n",
       "      <td>0.025954</td>\n",
       "      <td>0.031643</td>\n",
       "      <td>0.042306</td>\n",
       "      <td>0.032555</td>\n",
       "    </tr>\n",
       "    <tr>\n",
       "      <th>2</th>\n",
       "      <td>Cowley_R1</td>\n",
       "      <td>163.50</td>\n",
       "      <td>124-07</td>\n",
       "      <td>-0.046414</td>\n",
       "      <td>-0.029546</td>\n",
       "      <td>-0.011595</td>\n",
       "      <td>-0.004386</td>\n",
       "      <td>-0.002266</td>\n",
       "      <td>0.005027</td>\n",
       "      <td>0.005252</td>\n",
       "      <td>...</td>\n",
       "      <td>0.000207</td>\n",
       "      <td>0.005070</td>\n",
       "      <td>0.012198</td>\n",
       "      <td>0.017262</td>\n",
       "      <td>0.013688</td>\n",
       "      <td>0.014548</td>\n",
       "      <td>0.023951</td>\n",
       "      <td>0.030368</td>\n",
       "      <td>0.042067</td>\n",
       "      <td>0.033650</td>\n",
       "    </tr>\n",
       "    <tr>\n",
       "      <th>3</th>\n",
       "      <td>Cowley_R1</td>\n",
       "      <td>154.75</td>\n",
       "      <td>127-04</td>\n",
       "      <td>-0.054410</td>\n",
       "      <td>-0.029967</td>\n",
       "      <td>-0.008355</td>\n",
       "      <td>-0.002521</td>\n",
       "      <td>-0.001502</td>\n",
       "      <td>0.003642</td>\n",
       "      <td>0.001672</td>\n",
       "      <td>...</td>\n",
       "      <td>0.002189</td>\n",
       "      <td>0.007011</td>\n",
       "      <td>0.014734</td>\n",
       "      <td>0.020784</td>\n",
       "      <td>0.016636</td>\n",
       "      <td>0.017333</td>\n",
       "      <td>0.028589</td>\n",
       "      <td>0.038640</td>\n",
       "      <td>0.054589</td>\n",
       "      <td>0.043283</td>\n",
       "    </tr>\n",
       "    <tr>\n",
       "      <th>4</th>\n",
       "      <td>Cowley_R1</td>\n",
       "      <td>175.50</td>\n",
       "      <td>128-05</td>\n",
       "      <td>-0.048192</td>\n",
       "      <td>-0.023789</td>\n",
       "      <td>-0.002546</td>\n",
       "      <td>0.001690</td>\n",
       "      <td>0.000784</td>\n",
       "      <td>0.004333</td>\n",
       "      <td>0.002995</td>\n",
       "      <td>...</td>\n",
       "      <td>-0.000297</td>\n",
       "      <td>0.005269</td>\n",
       "      <td>0.013158</td>\n",
       "      <td>0.018333</td>\n",
       "      <td>0.013363</td>\n",
       "      <td>0.012711</td>\n",
       "      <td>0.021745</td>\n",
       "      <td>0.031111</td>\n",
       "      <td>0.046631</td>\n",
       "      <td>0.037438</td>\n",
       "    </tr>\n",
       "  </tbody>\n",
       "</table>\n",
       "<p>5 rows × 28 columns</p>\n",
       "</div>"
      ],
      "text/plain": [
       "        Type  Concentration  info_1  Wavelength_1  Wavelength_2  Wavelength_3  \\\n",
       "0  Cowley_R1         101.40  111-07     -0.056660     -0.034281     -0.014557   \n",
       "1  Cowley_R1         113.25  120-03     -0.043606     -0.023467     -0.006303   \n",
       "2  Cowley_R1         163.50  124-07     -0.046414     -0.029546     -0.011595   \n",
       "3  Cowley_R1         154.75  127-04     -0.054410     -0.029967     -0.008355   \n",
       "4  Cowley_R1         175.50  128-05     -0.048192     -0.023789     -0.002546   \n",
       "\n",
       "   Wavelength_4  Wavelength_5  Wavelength_6  Wavelength_7  ...  Wavelength_16  \\\n",
       "0     -0.007463     -0.004063      0.002785      0.001763  ...       0.004577   \n",
       "1     -0.002042     -0.001027      0.004096      0.003374  ...      -0.000642   \n",
       "2     -0.004386     -0.002266      0.005027      0.005252  ...       0.000207   \n",
       "3     -0.002521     -0.001502      0.003642      0.001672  ...       0.002189   \n",
       "4      0.001690      0.000784      0.004333      0.002995  ...      -0.000297   \n",
       "\n",
       "   Wavelength_17  Wavelength_18  Wavelength_19  Wavelength_20  Wavelength_21  \\\n",
       "0       0.007467       0.014168       0.020039       0.017172       0.019253   \n",
       "1       0.004463       0.011616       0.016680       0.013824       0.015516   \n",
       "2       0.005070       0.012198       0.017262       0.013688       0.014548   \n",
       "3       0.007011       0.014734       0.020784       0.016636       0.017333   \n",
       "4       0.005269       0.013158       0.018333       0.013363       0.012711   \n",
       "\n",
       "   Wavelength_22  Wavelength_23  Wavelength_24  Wavelength_25  \n",
       "0       0.030499       0.039517       0.053933       0.042249  \n",
       "1       0.025954       0.031643       0.042306       0.032555  \n",
       "2       0.023951       0.030368       0.042067       0.033650  \n",
       "3       0.028589       0.038640       0.054589       0.043283  \n",
       "4       0.021745       0.031111       0.046631       0.037438  \n",
       "\n",
       "[5 rows x 28 columns]"
      ]
     },
     "execution_count": 4,
     "metadata": {},
     "output_type": "execute_result"
    }
   ],
   "source": [
    "##Read and rename testing set\n",
    "dataR1_V = pd.read_csv('Val_R1_CC.csv',encoding='big5')\n",
    "dataR1_V.rename(columns={\"ID\":\"Type\",\"ysiP\":\"Concentration\"},inplace=True)\n",
    "dataR1_V.head()"
   ]
  },
  {
   "cell_type": "code",
   "execution_count": 5,
   "metadata": {},
   "outputs": [
    {
     "data": {
      "text/html": [
       "<div>\n",
       "<style scoped>\n",
       "    .dataframe tbody tr th:only-of-type {\n",
       "        vertical-align: middle;\n",
       "    }\n",
       "\n",
       "    .dataframe tbody tr th {\n",
       "        vertical-align: top;\n",
       "    }\n",
       "\n",
       "    .dataframe thead th {\n",
       "        text-align: right;\n",
       "    }\n",
       "</style>\n",
       "<table border=\"1\" class=\"dataframe\">\n",
       "  <thead>\n",
       "    <tr style=\"text-align: right;\">\n",
       "      <th></th>\n",
       "      <th>ID</th>\n",
       "      <th>Type</th>\n",
       "      <th>Concentration</th>\n",
       "      <th>Wavelength_1</th>\n",
       "      <th>Wavelength_2</th>\n",
       "      <th>Wavelength_3</th>\n",
       "      <th>Wavelength_4</th>\n",
       "      <th>Wavelength_5</th>\n",
       "      <th>Wavelength_6</th>\n",
       "      <th>Wavelength_7</th>\n",
       "      <th>...</th>\n",
       "      <th>Wavelength_16</th>\n",
       "      <th>Wavelength_17</th>\n",
       "      <th>Wavelength_18</th>\n",
       "      <th>Wavelength_19</th>\n",
       "      <th>Wavelength_20</th>\n",
       "      <th>Wavelength_21</th>\n",
       "      <th>Wavelength_22</th>\n",
       "      <th>Wavelength_23</th>\n",
       "      <th>Wavelength_24</th>\n",
       "      <th>Wavelength_25</th>\n",
       "    </tr>\n",
       "  </thead>\n",
       "  <tbody>\n",
       "    <tr>\n",
       "      <th>0</th>\n",
       "      <td>111-03</td>\n",
       "      <td>Cowley_R2</td>\n",
       "      <td>75.625</td>\n",
       "      <td>-0.037475</td>\n",
       "      <td>-0.001602</td>\n",
       "      <td>0.020121</td>\n",
       "      <td>0.019053</td>\n",
       "      <td>0.017166</td>\n",
       "      <td>0.016322</td>\n",
       "      <td>0.011433</td>\n",
       "      <td>...</td>\n",
       "      <td>-0.011918</td>\n",
       "      <td>-0.007196</td>\n",
       "      <td>0.000485</td>\n",
       "      <td>0.007292</td>\n",
       "      <td>0.007895</td>\n",
       "      <td>0.015417</td>\n",
       "      <td>0.029966</td>\n",
       "      <td>0.026474</td>\n",
       "      <td>0.028579</td>\n",
       "      <td>0.016212</td>\n",
       "    </tr>\n",
       "    <tr>\n",
       "      <th>1</th>\n",
       "      <td>120-01</td>\n",
       "      <td>Cowley_R2</td>\n",
       "      <td>93.100</td>\n",
       "      <td>-0.038604</td>\n",
       "      <td>-0.010774</td>\n",
       "      <td>0.009055</td>\n",
       "      <td>0.010390</td>\n",
       "      <td>0.009297</td>\n",
       "      <td>0.011767</td>\n",
       "      <td>0.009376</td>\n",
       "      <td>...</td>\n",
       "      <td>-0.007197</td>\n",
       "      <td>-0.001955</td>\n",
       "      <td>0.005536</td>\n",
       "      <td>0.011408</td>\n",
       "      <td>0.009281</td>\n",
       "      <td>0.011512</td>\n",
       "      <td>0.021515</td>\n",
       "      <td>0.025787</td>\n",
       "      <td>0.035376</td>\n",
       "      <td>0.025938</td>\n",
       "    </tr>\n",
       "    <tr>\n",
       "      <th>2</th>\n",
       "      <td>127-01</td>\n",
       "      <td>Cowley_R2</td>\n",
       "      <td>123.000</td>\n",
       "      <td>-0.027267</td>\n",
       "      <td>0.012453</td>\n",
       "      <td>0.035006</td>\n",
       "      <td>0.029263</td>\n",
       "      <td>0.023707</td>\n",
       "      <td>0.020495</td>\n",
       "      <td>0.015150</td>\n",
       "      <td>...</td>\n",
       "      <td>-0.016906</td>\n",
       "      <td>-0.011475</td>\n",
       "      <td>-0.003810</td>\n",
       "      <td>0.002522</td>\n",
       "      <td>0.002435</td>\n",
       "      <td>0.007525</td>\n",
       "      <td>0.018265</td>\n",
       "      <td>0.016908</td>\n",
       "      <td>0.022261</td>\n",
       "      <td>0.012745</td>\n",
       "    </tr>\n",
       "    <tr>\n",
       "      <th>3</th>\n",
       "      <td>128-01</td>\n",
       "      <td>Cowley_R2</td>\n",
       "      <td>96.450</td>\n",
       "      <td>-0.023830</td>\n",
       "      <td>0.009763</td>\n",
       "      <td>0.027870</td>\n",
       "      <td>0.022670</td>\n",
       "      <td>0.018104</td>\n",
       "      <td>0.016183</td>\n",
       "      <td>0.012525</td>\n",
       "      <td>...</td>\n",
       "      <td>-0.014167</td>\n",
       "      <td>-0.008345</td>\n",
       "      <td>-0.000857</td>\n",
       "      <td>0.004540</td>\n",
       "      <td>0.003774</td>\n",
       "      <td>0.008180</td>\n",
       "      <td>0.017889</td>\n",
       "      <td>0.015740</td>\n",
       "      <td>0.020112</td>\n",
       "      <td>0.011696</td>\n",
       "    </tr>\n",
       "    <tr>\n",
       "      <th>4</th>\n",
       "      <td>128-02</td>\n",
       "      <td>Cowley_R2</td>\n",
       "      <td>139.000</td>\n",
       "      <td>-0.030701</td>\n",
       "      <td>0.000192</td>\n",
       "      <td>0.019704</td>\n",
       "      <td>0.017720</td>\n",
       "      <td>0.014217</td>\n",
       "      <td>0.014188</td>\n",
       "      <td>0.011288</td>\n",
       "      <td>...</td>\n",
       "      <td>-0.010602</td>\n",
       "      <td>-0.004953</td>\n",
       "      <td>0.002502</td>\n",
       "      <td>0.008016</td>\n",
       "      <td>0.006011</td>\n",
       "      <td>0.008811</td>\n",
       "      <td>0.018233</td>\n",
       "      <td>0.019397</td>\n",
       "      <td>0.026786</td>\n",
       "      <td>0.018202</td>\n",
       "    </tr>\n",
       "  </tbody>\n",
       "</table>\n",
       "<p>5 rows × 28 columns</p>\n",
       "</div>"
      ],
      "text/plain": [
       "       ID       Type  Concentration  Wavelength_1  Wavelength_2  Wavelength_3  \\\n",
       "0  111-03  Cowley_R2         75.625     -0.037475     -0.001602      0.020121   \n",
       "1  120-01  Cowley_R2         93.100     -0.038604     -0.010774      0.009055   \n",
       "2  127-01  Cowley_R2        123.000     -0.027267      0.012453      0.035006   \n",
       "3  128-01  Cowley_R2         96.450     -0.023830      0.009763      0.027870   \n",
       "4  128-02  Cowley_R2        139.000     -0.030701      0.000192      0.019704   \n",
       "\n",
       "   Wavelength_4  Wavelength_5  Wavelength_6  Wavelength_7  ...  Wavelength_16  \\\n",
       "0      0.019053      0.017166      0.016322      0.011433  ...      -0.011918   \n",
       "1      0.010390      0.009297      0.011767      0.009376  ...      -0.007197   \n",
       "2      0.029263      0.023707      0.020495      0.015150  ...      -0.016906   \n",
       "3      0.022670      0.018104      0.016183      0.012525  ...      -0.014167   \n",
       "4      0.017720      0.014217      0.014188      0.011288  ...      -0.010602   \n",
       "\n",
       "   Wavelength_17  Wavelength_18  Wavelength_19  Wavelength_20  Wavelength_21  \\\n",
       "0      -0.007196       0.000485       0.007292       0.007895       0.015417   \n",
       "1      -0.001955       0.005536       0.011408       0.009281       0.011512   \n",
       "2      -0.011475      -0.003810       0.002522       0.002435       0.007525   \n",
       "3      -0.008345      -0.000857       0.004540       0.003774       0.008180   \n",
       "4      -0.004953       0.002502       0.008016       0.006011       0.008811   \n",
       "\n",
       "   Wavelength_22  Wavelength_23  Wavelength_24  Wavelength_25  \n",
       "0       0.029966       0.026474       0.028579       0.016212  \n",
       "1       0.021515       0.025787       0.035376       0.025938  \n",
       "2       0.018265       0.016908       0.022261       0.012745  \n",
       "3       0.017889       0.015740       0.020112       0.011696  \n",
       "4       0.018233       0.019397       0.026786       0.018202  \n",
       "\n",
       "[5 rows x 28 columns]"
      ]
     },
     "execution_count": 5,
     "metadata": {},
     "output_type": "execute_result"
    }
   ],
   "source": [
    "##Read and rename testing set\n",
    "dataR2_V=pd.read_csv('Val_R2_CC.csv',encoding='big5')\n",
    "dataR2_V.rename(columns={\"info_1\":\"Type\",\"glucose\":\"Concentration\"},inplace=True)\n",
    "dataR2_V.head()"
   ]
  },
  {
   "cell_type": "code",
   "execution_count": 6,
   "metadata": {},
   "outputs": [
    {
     "name": "stdout",
     "output_type": "stream",
     "text": [
      "      Type  Concentration  Wavelength_1  Wavelength_2  Wavelength_3  \\\n",
      "0  Normals         85.882     -0.073472     -0.064965     -0.052051   \n",
      "1  Normals        343.364     -0.066675     -0.054407     -0.032677   \n",
      "2  Normals         77.500     -0.071634     -0.062565     -0.048661   \n",
      "3  Normals        127.545     -0.075604     -0.065600     -0.050118   \n",
      "4  Normals         95.964     -0.069586     -0.061330     -0.049180   \n",
      "\n",
      "   Wavelength_4  Wavelength_5  Wavelength_6  Wavelength_7  Wavelength_8  ...  \\\n",
      "0     -0.039973     -0.032879     -0.021751     -0.018004     -0.021779  ...   \n",
      "1     -0.017803     -0.015590     -0.006747     -0.005069     -0.013377  ...   \n",
      "2     -0.036514     -0.030004     -0.019449     -0.017100     -0.021786  ...   \n",
      "3     -0.037192     -0.030721     -0.019288     -0.016368     -0.021595  ...   \n",
      "4     -0.038596     -0.033232     -0.023742     -0.020889     -0.024217  ...   \n",
      "\n",
      "   Wavelength_16  Wavelength_17  Wavelength_18  Wavelength_19  Wavelength_20  \\\n",
      "0       0.023370       0.029804       0.038832       0.042539       0.032333   \n",
      "1       0.014498       0.019291       0.026737       0.031032       0.023191   \n",
      "2       0.021598       0.027140       0.035362       0.039737       0.031855   \n",
      "3       0.022595       0.028053       0.036533       0.040919       0.032073   \n",
      "4       0.022444       0.029640       0.038929       0.043257       0.034302   \n",
      "\n",
      "   Wavelength_21  Wavelength_22  Wavelength_23  Wavelength_24  Wavelength_25  \n",
      "0       0.028113       0.037137       0.055457       0.080614       0.065824  \n",
      "1       0.020134       0.028595       0.045566       0.068380       0.056550  \n",
      "2       0.030109       0.039777       0.055752       0.078373       0.063359  \n",
      "3       0.029566       0.039487       0.056886       0.081038       0.065634  \n",
      "4       0.031892       0.041178       0.056625       0.079834       0.065080  \n",
      "\n",
      "[5 rows x 27 columns]\n",
      "(1401, 27)\n"
     ]
    }
   ],
   "source": [
    "######For Training data,先remove 一定沒用的\n",
    "\n",
    "data2=data1.drop(['info_1'], axis=1)\n",
    "\n",
    "print(data2.head())\n",
    "print(data2.shape)"
   ]
  },
  {
   "cell_type": "code",
   "execution_count": 7,
   "metadata": {},
   "outputs": [
    {
     "name": "stdout",
     "output_type": "stream",
     "text": [
      "          Type  Concentration  Wavelength_1  Wavelength_2  Wavelength_3  \\\n",
      "768  Cowley_R1        103.750     -0.056831     -0.049039     -0.037110   \n",
      "769  Cowley_R1        154.750     -0.057957     -0.048207     -0.033600   \n",
      "770  Cowley_R1        135.000     -0.057198     -0.048950     -0.036654   \n",
      "771  Cowley_R1         99.225     -0.053599     -0.046017     -0.035366   \n",
      "772  Cowley_R1        133.500     -0.053437     -0.044549     -0.031282   \n",
      "\n",
      "     Wavelength_4  Wavelength_5  Wavelength_6  Wavelength_7  Wavelength_8  \\\n",
      "768     -0.027735     -0.023469     -0.015346     -0.013575     -0.017487   \n",
      "769     -0.023542     -0.020122     -0.012470     -0.011685     -0.016502   \n",
      "770     -0.027245     -0.023236     -0.014749     -0.012591     -0.016913   \n",
      "771     -0.026690     -0.022138     -0.013987     -0.012311     -0.016736   \n",
      "772     -0.021983     -0.018300     -0.010589     -0.010003     -0.015493   \n",
      "\n",
      "     ...  Wavelength_16  Wavelength_17  Wavelength_18  Wavelength_19  \\\n",
      "768  ...       0.016330       0.021318       0.028238       0.031781   \n",
      "769  ...       0.014122       0.019579       0.026850       0.031229   \n",
      "770  ...       0.015088       0.021129       0.028905       0.032910   \n",
      "771  ...       0.014046       0.019780       0.027173       0.031301   \n",
      "772  ...       0.012040       0.016947       0.023772       0.028479   \n",
      "\n",
      "     Wavelength_20  Wavelength_21  Wavelength_22  Wavelength_23  \\\n",
      "768       0.025273       0.024260       0.032874       0.044898   \n",
      "769       0.025953       0.027288       0.037216       0.044372   \n",
      "770       0.026830       0.027326       0.037030       0.046014   \n",
      "771       0.026444       0.028462       0.038526       0.043929   \n",
      "772       0.024524       0.027301       0.038297       0.043475   \n",
      "\n",
      "     Wavelength_24  Wavelength_25  \n",
      "768       0.062252       0.050184  \n",
      "769       0.057201       0.044259  \n",
      "770       0.061305       0.048931  \n",
      "771       0.055580       0.043099  \n",
      "772       0.053830       0.041391  \n",
      "\n",
      "[5 rows x 27 columns]\n",
      "(523, 27)\n"
     ]
    }
   ],
   "source": [
    "###from data set to filter R1\n",
    "data_R1=data2[data2['Type']=='Cowley_R1']\n",
    "print(data_R1.head())\n",
    "print(data_R1.shape)"
   ]
  },
  {
   "cell_type": "code",
   "execution_count": 8,
   "metadata": {},
   "outputs": [
    {
     "name": "stdout",
     "output_type": "stream",
     "text": [
      "          Type  Concentration  Wavelength_1  Wavelength_2  Wavelength_3  \\\n",
      "785  Cowley_R2        123.500     -0.036327      0.003729      0.028279   \n",
      "793  Cowley_R2         92.400     -0.039906     -0.009347      0.010777   \n",
      "795  Cowley_R2        186.250     -0.039540     -0.007521      0.016915   \n",
      "796  Cowley_R2        103.500     -0.022072      0.015217      0.035973   \n",
      "797  Cowley_R2         83.975     -0.047173     -0.019487      0.001536   \n",
      "\n",
      "     Wavelength_4  Wavelength_5  Wavelength_6  Wavelength_7  Wavelength_8  \\\n",
      "785      0.024692      0.020142      0.017611      0.012348     -0.002944   \n",
      "793      0.010944      0.009443      0.009952      0.006147     -0.006166   \n",
      "795      0.018583      0.016499      0.017624      0.012069     -0.002914   \n",
      "796      0.029887      0.023595      0.018396      0.013107     -0.000123   \n",
      "797      0.005338      0.006271      0.009144      0.005537     -0.007255   \n",
      "\n",
      "     ...  Wavelength_16  Wavelength_17  Wavelength_18  Wavelength_19  \\\n",
      "785  ...      -0.012057      -0.006664       0.001243       0.006507   \n",
      "793  ...      -0.005332      -0.000554       0.006444       0.011617   \n",
      "795  ...      -0.009983      -0.006165       0.000458       0.006917   \n",
      "796  ...      -0.016373      -0.011883      -0.005508      -0.000421   \n",
      "797  ...      -0.000353       0.001469       0.006834       0.011472   \n",
      "\n",
      "     Wavelength_20  Wavelength_21  Wavelength_22  Wavelength_23  \\\n",
      "785       0.003542       0.005915       0.015683       0.020423   \n",
      "793       0.009467       0.013051       0.023597       0.027436   \n",
      "795       0.006953       0.013375       0.026090       0.025929   \n",
      "796      -0.000420       0.004573       0.013467       0.011524   \n",
      "797       0.008939       0.010677       0.019627       0.029606   \n",
      "\n",
      "     Wavelength_24  Wavelength_25  \n",
      "785       0.031612       0.019938  \n",
      "793       0.037128       0.025098  \n",
      "795       0.030695       0.018220  \n",
      "796       0.015786       0.007488  \n",
      "797       0.044090       0.032571  \n",
      "\n",
      "[5 rows x 27 columns]\n",
      "(110, 27)\n"
     ]
    }
   ],
   "source": [
    "###from data set to filter R2\n",
    "data_R2=data2[data2['Type']=='Cowley_R2']\n",
    "print(data_R2.head())\n",
    "print(data_R2.shape)"
   ]
  },
  {
   "cell_type": "code",
   "execution_count": 9,
   "metadata": {},
   "outputs": [
    {
     "name": "stdout",
     "output_type": "stream",
     "text": [
      "(356, 27)\n",
      "(32, 27)\n"
     ]
    }
   ],
   "source": [
    "###remove the unuseful features from testing data set\n",
    "dataR1_V_o = dataR1_V.drop(['info_1'], axis=1)\n",
    "dataR2_V_o = dataR2_V.drop(['ID'], axis=1)\n",
    "\n",
    "print(dataR1_V_o.shape)\n",
    "print(dataR2_V_o.shape)\n"
   ]
  },
  {
   "cell_type": "code",
   "execution_count": 10,
   "metadata": {},
   "outputs": [
    {
     "name": "stdout",
     "output_type": "stream",
     "text": [
      "(356, 25)\n",
      "(356,)\n",
      "0    101.40\n",
      "1    113.25\n",
      "2    163.50\n",
      "3    154.75\n",
      "4    175.50\n",
      "Name: Concentration, dtype: float64\n"
     ]
    }
   ],
   "source": [
    "#### R1 prediction\n",
    "#### remove label\n",
    "### R1 testing set \n",
    "\n",
    "X_dataR1_V = dataR1_V_o.drop(['Type','Concentration'], axis=1)\n",
    "print(X_dataR1_V.shape)\n",
    "\n",
    "Y_dataR1_V = dataR1_V_o['Concentration']\n",
    "print(Y_dataR1_V .shape)\n",
    "print(Y_dataR1_V [:5])"
   ]
  },
  {
   "cell_type": "code",
   "execution_count": 21,
   "metadata": {},
   "outputs": [
    {
     "name": "stdout",
     "output_type": "stream",
     "text": [
      "(32, 25)\n",
      "(32,)\n",
      "0     75.625\n",
      "1     93.100\n",
      "2    123.000\n",
      "3     96.450\n",
      "4    139.000\n",
      "Name: Concentration, dtype: float64\n"
     ]
    }
   ],
   "source": [
    "#### R2 prediction\n",
    "#### remove label\n",
    "### R2 testing set \n",
    "\n",
    "X_dataR2_V = dataR2_V_o.drop(['Type','Concentration'], axis=1)\n",
    "print(X_dataR2_V.shape)\n",
    "\n",
    "Y_dataR2_V = dataR2_V_o['Concentration']\n",
    "print(Y_dataR2_V .shape)\n",
    "print(Y_dataR2_V [:5])"
   ]
  },
  {
   "cell_type": "code",
   "execution_count": 11,
   "metadata": {},
   "outputs": [
    {
     "name": "stdout",
     "output_type": "stream",
     "text": [
      "(523, 25)\n",
      "(523,)\n",
      "768    103.750\n",
      "769    154.750\n",
      "770    135.000\n",
      "771     99.225\n",
      "772    133.500\n",
      "Name: Concentration, dtype: float64\n"
     ]
    }
   ],
   "source": [
    "#### R1 prediction\n",
    "#### remove label\n",
    "### R1 training set \n",
    "#####把label(Type and Concentration) 跟features分開\n",
    "X_dataR1_T = data_R1.drop(['Type','Concentration'], axis=1)\n",
    "print(X_dataR1_T.shape)\n",
    "\n",
    "Y_dataR1_T = data_R1['Concentration']\n",
    "print(Y_dataR1_T.shape)\n",
    "print(Y_dataR1_T.head())"
   ]
  },
  {
   "cell_type": "code",
   "execution_count": 12,
   "metadata": {},
   "outputs": [
    {
     "name": "stdout",
     "output_type": "stream",
     "text": [
      "(110, 25)\n",
      "(110,)\n",
      "785    123.500\n",
      "793     92.400\n",
      "795    186.250\n",
      "796    103.500\n",
      "797     83.975\n",
      "Name: Concentration, dtype: float64\n"
     ]
    }
   ],
   "source": [
    "#### R2 prediction\n",
    "#### remove label\n",
    "### R2 training set \n",
    "#####把label(Type and Concentration) 跟features分開\n",
    "X_dataR2_T = data_R2.drop(['Type','Concentration'], axis=1)\n",
    "print(X_dataR2_T.shape)\n",
    "\n",
    "Y_dataR2_T = data_R2['Concentration']\n",
    "print(Y_dataR2_T.shape)\n",
    "print(Y_dataR2_T.head())"
   ]
  },
  {
   "cell_type": "code",
   "execution_count": 14,
   "metadata": {},
   "outputs": [],
   "source": [
    "####PLS\n",
    "##For R1\n",
    "from sklearn.cross_decomposition import PLSRegression \n",
    "# create PLSRegression model \n",
    "pls = PLSRegression(n_components=12) \n",
    "# fit the model \n",
    "pls.fit(X_dataR1_T, Y_dataR1_T) \n",
    "  \n",
    "# predict the values \n",
    "Y_predictR1_PLS = pls.predict(X_dataR1_V)    "
   ]
  },
  {
   "cell_type": "code",
   "execution_count": 15,
   "metadata": {},
   "outputs": [
    {
     "name": "stdout",
     "output_type": "stream",
     "text": [
      "(356,)\n"
     ]
    }
   ],
   "source": [
    "###Original nparray dimension is 2\n",
    "###Reduce 2 to 1 dimension\n",
    "Y_predictR1_PLS = Y_predictR1_PLS.flatten()\n",
    "print(Y_predictR1_PLS.shape)"
   ]
  },
  {
   "cell_type": "code",
   "execution_count": 16,
   "metadata": {},
   "outputs": [
    {
     "name": "stdout",
     "output_type": "stream",
     "text": [
      "MAE:  12.26\n",
      "MSE:  334.63\n",
      "MAPE:  10.84\n",
      "RMSE:  18.29\n"
     ]
    }
   ],
   "source": [
    "from sklearn.metrics import mean_absolute_error, mean_squared_error\n",
    "#Defining MAPE function\n",
    "def MAPE(Y_actual,Y_Predicted):\n",
    "    mape = np.mean(np.abs((Y_actual - Y_Predicted)/Y_actual))*100\n",
    "    return mape\n",
    "\n",
    "PLS_MAE_R1 = round(mean_absolute_error(Y_dataR1_V, Y_predictR1_PLS), 2)\n",
    "print(\"MAE: \",PLS_MAE_R1)\n",
    "PLS_MSE_R1 =round( mean_squared_error(Y_dataR1_V, Y_predictR1_PLS),2)\n",
    "print(\"MSE: \",PLS_MSE_R1)\n",
    "PLS_MAPE_R1= round(MAPE(Y_dataR1_V, Y_predictR1_PLS),2)\n",
    "print(\"MAPE: \",PLS_MAPE_R1)\n",
    "PLS_RMSE_R1 =round( mean_squared_error(Y_dataR1_V, Y_predictR1_PLS, squared=False),2)\n",
    "print(\"RMSE: \",PLS_RMSE_R1)"
   ]
  },
  {
   "cell_type": "code",
   "execution_count": 17,
   "metadata": {},
   "outputs": [
    {
     "name": "stdout",
     "output_type": "stream",
     "text": [
      "   Predict_mg/dl\n",
      "0      85.955111\n",
      "1     110.347247\n",
      "2     155.994144\n",
      "3     133.909209\n",
      "4     165.899459\n"
     ]
    }
   ],
   "source": [
    "PLS_prediction = pd.DataFrame(Y_predictR1_PLS, columns =['Predict_mg/dl']) \n",
    "print(PLS_prediction.head()) "
   ]
  },
  {
   "cell_type": "code",
   "execution_count": 18,
   "metadata": {},
   "outputs": [
    {
     "name": "stdout",
     "output_type": "stream",
     "text": [
      "   Predict_mg/dl  Actual_mg/dl\n",
      "0      85.955111        101.40\n",
      "1     110.347247        113.25\n",
      "2     155.994144        163.50\n",
      "3     133.909209        154.75\n",
      "4     165.899459        175.50\n",
      "(356, 2)\n"
     ]
    }
   ],
   "source": [
    "##for scatter plot show type\n",
    "PLS_prediction\n",
    "Y_dataR1_V\n",
    "# print(f_XGBR_Xtest_R1.head())\n",
    "# print(f_XGBR_ytest_R1.head())\n",
    "\n",
    "PLS_prediction = pd.concat([PLS_prediction,Y_dataR1_V],axis=1)\n",
    "PLS_prediction.rename(columns={'Concentration':'Actual_mg/dl'}, inplace =True)\n",
    "# # f_XGBR_test.rename(columns={\"0\":\"Predict_mg/dl\",\"1\":\"Actual_mg/dl \"}, inplace= True)\n",
    "print(PLS_prediction.head())\n",
    "print(PLS_prediction.shape)"
   ]
  },
  {
   "cell_type": "code",
   "execution_count": 19,
   "metadata": {},
   "outputs": [
    {
     "data": {
      "image/png": "[encoded data removed]",
      "text/plain": [
       "<Figure size 432x288 with 1 Axes>"
      ]
     },
     "metadata": {
      "needs_background": "light"
     },
     "output_type": "display_data"
    }
   ],
   "source": [
    "####Plot\n",
    "fig, ax = plt.subplots()\n",
    "sns.scatterplot(data=PLS_prediction, x='Actual_mg/dl',y='Predict_mg/dl')\n",
    "# ax.axline([0, 0], [400, 400],color=\"red\")\n",
    "# plt.plot([Y_dataR1_V.min(), Y_dataR1_V.max()], [Y_dataR1_V.min(),Y_dataR1_V.max()], 'k--', lw=2,color=\"red\")\n",
    "plt.plot([-100, 500], [-100, 500], color = 'red', linewidth = 2)\n",
    "plt.xlim(-100, 500)\n",
    "plt.ylim(-100, 500)\n",
    "all_sample_title =f'R1 Prediction MAPE: {PLS_MAPE_R1}, MAE:{PLS_MAE_R1}, RMSE:{PLS_RMSE_R1}'\n",
    "ax.set_title(all_sample_title, size = 13)##(\"R1 Prediction, MAPE: 13.600, MAE:15.274, RMSE=  20.934\")\n",
    "plt.show()"
   ]
  },
  {
   "cell_type": "code",
   "execution_count": 20,
   "metadata": {},
   "outputs": [
    {
     "data": {
      "image/png": "[encoded data removed]",
      "text/plain": [
       "<Figure size 432x288 with 1 Axes>"
      ]
     },
     "metadata": {
      "needs_background": "light"
     },
     "output_type": "display_data"
    }
   ],
   "source": [
    "####Plot\n",
    "fig, ax = plt.subplots()\n",
    "sns.scatterplot(data=PLS_prediction, x='Actual_mg/dl',y='Predict_mg/dl')\n",
    "# ax.axline([0, 0], [400, 400],color=\"red\")\n",
    "# plt.plot([Y_dataR1_V.min(), Y_dataR1_V.max()], [Y_dataR1_V.min(),Y_dataR1_V.max()], 'k--', lw=2,color=\"red\")\n",
    "plt.plot([-100, 500], [-100, 500], color = 'red', linewidth = 2)\n",
    "plt.xlim(-100, 500)\n",
    "plt.ylim(-100, 500)\n",
    "all_sample_title =f'Prediction of Normal ICU Patients RMSE:{PLS_RMSE_R1}'\n",
    "ax.set_title(all_sample_title, size = 13)##(\"R1 Prediction, MAPE: 13.600, MAE:15.274, RMSE=  20.934\")\n",
    "plt.show()"
   ]
  },
  {
   "cell_type": "code",
   "execution_count": 23,
   "metadata": {},
   "outputs": [],
   "source": [
    "####PLS\n",
    "##For R2\n",
    "from sklearn.cross_decomposition import PLSRegression \n",
    "# create PLSRegression model \n",
    "pls2 = PLSRegression(n_components=9) \n",
    "# fit the model \n",
    "pls2.fit(X_dataR2_T, Y_dataR2_T) \n",
    "  \n",
    "# predict the values \n",
    "Y_predictR2_PLS = pls2.predict(X_dataR2_V)    "
   ]
  },
  {
   "cell_type": "code",
   "execution_count": 24,
   "metadata": {},
   "outputs": [
    {
     "name": "stdout",
     "output_type": "stream",
     "text": [
      "(32,)\n"
     ]
    }
   ],
   "source": [
    "###Original nparray dimension is 2\n",
    "###Reduce 2 to 1 dimension\n",
    "Y_predictR2_PLS = Y_predictR2_PLS.flatten()\n",
    "print(Y_predictR2_PLS.shape)"
   ]
  },
  {
   "cell_type": "code",
   "execution_count": 25,
   "metadata": {},
   "outputs": [
    {
     "name": "stdout",
     "output_type": "stream",
     "text": [
      "MAE:  16.4\n",
      "MSE:  330.35\n",
      "MAPE:  13.71\n",
      "RMSE:  18.18\n"
     ]
    }
   ],
   "source": [
    "PLS_MAE_R2 = round(mean_absolute_error(Y_dataR2_V, Y_predictR2_PLS),2)\n",
    "print(\"MAE: \",PLS_MAE_R2)\n",
    "PLS_MSE_R2 = round(mean_squared_error(Y_dataR2_V, Y_predictR2_PLS),2)\n",
    "print(\"MSE: \",PLS_MSE_R2)\n",
    "PLS_MAPE_R2= round(MAPE(Y_dataR2_V, Y_predictR2_PLS),2)\n",
    "print(\"MAPE: \",PLS_MAPE_R2)\n",
    "PLS_RMSE_R2 = round(mean_squared_error(Y_dataR2_V, Y_predictR2_PLS, squared=False),2)\n",
    "print(\"RMSE: \",PLS_RMSE_R2)"
   ]
  },
  {
   "cell_type": "code",
   "execution_count": 26,
   "metadata": {},
   "outputs": [
    {
     "name": "stdout",
     "output_type": "stream",
     "text": [
      "   Predict_mg/dl\n",
      "0     107.254704\n",
      "1      99.129986\n",
      "2      92.515212\n",
      "3      82.460787\n",
      "4     115.881934\n",
      "   Predict_mg/dl  Actual_mg/dl\n",
      "0     107.254704        75.625\n",
      "1      99.129986        93.100\n",
      "2      92.515212       123.000\n",
      "3      82.460787        96.450\n",
      "4     115.881934       139.000\n",
      "(32, 2)\n"
     ]
    }
   ],
   "source": [
    "PLS_prediction_R2 = pd.DataFrame(Y_predictR2_PLS, columns =['Predict_mg/dl']) \n",
    "print(PLS_prediction_R2.head()) \n",
    "\n",
    "\n",
    "PLS_prediction_R2 = pd.concat([PLS_prediction_R2,Y_dataR2_V],axis=1)\n",
    "PLS_prediction_R2.rename(columns={'Concentration':'Actual_mg/dl'}, inplace =True)\n",
    "# # f_XGBR_test.rename(columns={\"0\":\"Predict_mg/dl\",\"1\":\"Actual_mg/dl \"}, inplace= True)\n",
    "print(PLS_prediction_R2.head())\n",
    "print(PLS_prediction_R2.shape)"
   ]
  },
  {
   "cell_type": "code",
   "execution_count": 27,
   "metadata": {},
   "outputs": [
    {
     "data": {
      "image/png": "[encoded data removed]",
      "text/plain": [
       "<Figure size 432x288 with 1 Axes>"
      ]
     },
     "metadata": {
      "needs_background": "light"
     },
     "output_type": "display_data"
    }
   ],
   "source": [
    "####Plot\n",
    "fig, ax = plt.subplots()\n",
    "sns.scatterplot(data=PLS_prediction_R2, x='Actual_mg/dl',y='Predict_mg/dl')\n",
    "# ax.axline([0, 0], [400, 400],color=\"red\")\n",
    "# plt.plot([Y_dataR1_V.min(), Y_dataR1_V.max()], [Y_dataR1_V.min(),Y_dataR1_V.max()], 'k--', lw=2,color=\"red\")\n",
    "plt.plot([0, 650], [0, 650], color = 'red', linewidth = 2)\n",
    "plt.xlim(-0.05, 650)\n",
    "plt.ylim(-0.05, 650)\n",
    "all_sample_title =f'R2 Prediction MAPE: {PLS_MAPE_R2}, MAE:{PLS_MAE_R2}, RMSE:{PLS_RMSE_R2}'\n",
    "ax.set_title(all_sample_title, size = 13)\n",
    "\n",
    "plt.show()"
   ]
  },
  {
   "cell_type": "code",
   "execution_count": 28,
   "metadata": {},
   "outputs": [
    {
     "data": {
      "image/png": "[encoded data removed]",
      "text/plain": [
       "<Figure size 432x288 with 1 Axes>"
      ]
     },
     "metadata": {
      "needs_background": "light"
     },
     "output_type": "display_data"
    }
   ],
   "source": [
    "####Plot\n",
    "fig, ax = plt.subplots()\n",
    "sns.scatterplot(data=PLS_prediction_R2, x='Actual_mg/dl',y='Predict_mg/dl')\n",
    "# ax.axline([0, 0], [400, 400],color=\"red\")\n",
    "# plt.plot([Y_dataR1_V.min(), Y_dataR1_V.max()], [Y_dataR1_V.min(),Y_dataR1_V.max()], 'k--', lw=2,color=\"red\")\n",
    "plt.plot([0, 650], [0, 650], color = 'red', linewidth = 2)\n",
    "plt.xlim(-0.05, 650)\n",
    "plt.ylim(-0.05, 650)\n",
    "all_sample_title =f'Prediction of Patients With Hetastarch RMSE:{PLS_RMSE_R2}'\n",
    "ax.set_title(all_sample_title, size = 13)\n",
    "\n",
    "plt.show()"
   ]
  },
  {
   "cell_type": "code",
   "execution_count": 29,
   "metadata": {},
   "outputs": [],
   "source": [
    "from sklearn.linear_model import LinearRegression\n",
    "from sklearn.linear_model import Lasso\n",
    "from sklearn.linear_model import LassoCV\n",
    "from sklearn.model_selection import KFold\n",
    "from numpy import mean\n",
    "from numpy import absolute\n",
    "from numpy import sqrt\n",
    "from sklearn.model_selection import ShuffleSplit, GridSearchCV"
   ]
  },
  {
   "cell_type": "code",
   "execution_count": 30,
   "metadata": {},
   "outputs": [],
   "source": [
    "###The method_ XGBOOST\n",
    "###R1\n",
    "\n",
    "##https://www.kaggle.com/code/carlmcbrideellis/an-introduction-to-xgboost-regression\n",
    "#=========================================================================\n",
    "# XGBoost regression: \n",
    "# Parameters: \n",
    "# n_estimators  \"Number of gradient boosted trees. Equivalent to number \n",
    "#                of boosting rounds.\"\n",
    "# learning_rate \"Boosting learning rate (also known as “eta”)\"\n",
    "# max_depth     \"Maximum depth of a tree. Increasing this value will make \n",
    "#                the model more complex and more likely to overfit.\" \n",
    "#=========================================================================\n",
    "\n",
    "\n",
    "\n",
    "from xgboost import XGBRegressor                # 1. choose model class\n",
    "model_XGBR = XGBRegressor(eval_metric='rmsle')                         # 2. instantiate model\n",
    "\n",
    "param_grid_XGB = {'gamma': [5], 'learning_rate': [0.1], 'max_depth': [6], 'min_child_weight': [6], 'n_estimators': [1000], 'subsample': [0.5]}\n",
    "\n",
    "search_XGBR_R1 = GridSearchCV(model_XGBR, \n",
    "                      param_grid = param_grid_XGB,\n",
    "                      cv = 5,\n",
    "                      scoring = 'neg_mean_squared_error',\n",
    "                      n_jobs= 8,\n",
    "                      )\n",
    "\n",
    "search_XGBR_R1.fit(X_dataR1_T, Y_dataR1_T)\n",
    "\n",
    "# predict the values \n",
    "Y_predict_XGBR_R1 = search_XGBR_R1.predict(X_dataR1_V) "
   ]
  },
  {
   "cell_type": "code",
   "execution_count": 31,
   "metadata": {},
   "outputs": [
    {
     "name": "stdout",
     "output_type": "stream",
     "text": [
      "{'gamma': 5, 'learning_rate': 0.1, 'max_depth': 6, 'min_child_weight': 6, 'n_estimators': 1000, 'subsample': 0.5}\n",
      "MAE:  26.91\n",
      "MSE:  1274.24\n",
      "MAPE:  22.36\n",
      "RMSE:  35.7\n",
      "   Predict_mg/dl\n",
      "0     130.274155\n",
      "1     123.817841\n",
      "2     129.234894\n",
      "3     130.196732\n",
      "4     140.536484\n",
      "   Predict_mg/dl  Actual_mg/dl\n",
      "0     130.274155        101.40\n",
      "1     123.817841        113.25\n",
      "2     129.234894        163.50\n",
      "3     130.196732        154.75\n",
      "4     140.536484        175.50\n",
      "(356, 2)\n"
     ]
    },
    {
     "data": {
      "image/png": "[encoded data removed]",
      "text/plain": [
       "<Figure size 432x288 with 1 Axes>"
      ]
     },
     "metadata": {
      "needs_background": "light"
     },
     "output_type": "display_data"
    }
   ],
   "source": [
    "\n",
    "  \n",
    "\n",
    "print(search_XGBR_R1.best_params_)####最好的參數\n",
    "\n",
    "###\n",
    "###performance\n",
    "XGBR_MAE_R1 =round(mean_absolute_error(Y_dataR1_V, Y_predict_XGBR_R1),2)\n",
    "print(\"MAE: \",XGBR_MAE_R1)\n",
    "XGBR_MSE_R1 = round(mean_squared_error(Y_dataR1_V, Y_predict_XGBR_R1),2)\n",
    "print(\"MSE: \",XGBR_MSE_R1)\n",
    "XGBR_MAPE_R1= round(MAPE(Y_dataR1_V, Y_predict_XGBR_R1),2)\n",
    "print(\"MAPE: \",XGBR_MAPE_R1)\n",
    "XGBR_RMSE_R1 =round( mean_squared_error(Y_dataR1_V, Y_predict_XGBR_R1, squared=False),2)\n",
    "print(\"RMSE: \",XGBR_RMSE_R1)\n",
    "\n",
    "###\n",
    "XGBR_prediction_R1 = pd.DataFrame(Y_predict_XGBR_R1, columns =['Predict_mg/dl']) \n",
    "print(XGBR_prediction_R1.head()) \n",
    "\n",
    "\n",
    "\n",
    "XGBR_prediction_R1 = pd.concat([XGBR_prediction_R1,Y_dataR1_V],axis=1)\n",
    "XGBR_prediction_R1.rename(columns={'Concentration':'Actual_mg/dl'}, inplace =True)\n",
    "\n",
    "\n",
    "print(XGBR_prediction_R1.head())\n",
    "print(XGBR_prediction_R1.shape)\n",
    "\n",
    "####Plot\n",
    "fig, ax = plt.subplots()\n",
    "sns.scatterplot(data=XGBR_prediction_R1, x='Actual_mg/dl',y='Predict_mg/dl')\n",
    "# xpoints = ypoints = plt.xlim()\n",
    "# plt.plot(xpoints, ypoints, linestyle='--', color='r', lw=3, scalex=False, scaley=False)\n",
    "plt.plot([0, 650], [0, 650], color = 'red', linewidth = 2)\n",
    "plt.xlim(-0.05, 650)\n",
    "plt.ylim(-0.05, 650)\n",
    "all_sample_title =f'R1 Prediction of XGBR MAPE: {XGBR_MAPE_R1}, MAE:{XGBR_MAE_R1}, RMSE:{XGBR_RMSE_R1}'\n",
    "ax.set_title(all_sample_title, size = 13)\n",
    "plt.show()\n"
   ]
  },
  {
   "cell_type": "code",
   "execution_count": 32,
   "metadata": {},
   "outputs": [
    {
     "name": "stdout",
     "output_type": "stream",
     "text": [
      "MAE:  26.91\n",
      "MSE:  1274.24\n",
      "MAPE:  22.36\n",
      "RMSE:  35.7\n",
      "   Predict_mg/dl\n",
      "0     130.274155\n",
      "1     123.817841\n",
      "2     129.234894\n",
      "3     130.196732\n",
      "4     140.536484\n",
      "   Predict_mg/dl  Actual_mg/dl\n",
      "0     130.274155        101.40\n",
      "1     123.817841        113.25\n",
      "2     129.234894        163.50\n",
      "3     130.196732        154.75\n",
      "4     140.536484        175.50\n",
      "(356, 2)\n"
     ]
    },
    {
     "data": {
      "image/png": "[encoded data removed]",
      "text/plain": [
       "<Figure size 432x288 with 1 Axes>"
      ]
     },
     "metadata": {
      "needs_background": "light"
     },
     "output_type": "display_data"
    }
   ],
   "source": [
    "###performance\n",
    "XGBR_MAE_R1 =round(mean_absolute_error(Y_dataR1_V, Y_predict_XGBR_R1),2)\n",
    "print(\"MAE: \",XGBR_MAE_R1)\n",
    "XGBR_MSE_R1 = round(mean_squared_error(Y_dataR1_V, Y_predict_XGBR_R1),2)\n",
    "print(\"MSE: \",XGBR_MSE_R1)\n",
    "XGBR_MAPE_R1= round(MAPE(Y_dataR1_V, Y_predict_XGBR_R1),2)\n",
    "print(\"MAPE: \",XGBR_MAPE_R1)\n",
    "XGBR_RMSE_R1 =round( mean_squared_error(Y_dataR1_V, Y_predict_XGBR_R1, squared=False),2)\n",
    "print(\"RMSE: \",XGBR_RMSE_R1)\n",
    "\n",
    "###\n",
    "XGBR_prediction_R1 = pd.DataFrame(Y_predict_XGBR_R1, columns =['Predict_mg/dl']) \n",
    "print(XGBR_prediction_R1.head()) \n",
    "\n",
    "\n",
    "\n",
    "XGBR_prediction_R1 = pd.concat([XGBR_prediction_R1,Y_dataR1_V],axis=1)\n",
    "XGBR_prediction_R1.rename(columns={'Concentration':'Actual_mg/dl'}, inplace =True)\n",
    "\n",
    "\n",
    "print(XGBR_prediction_R1.head())\n",
    "print(XGBR_prediction_R1.shape)\n",
    "\n",
    "####Plot\n",
    "fig, ax = plt.subplots()\n",
    "sns.scatterplot(data=XGBR_prediction_R1, x='Actual_mg/dl',y='Predict_mg/dl')\n",
    "# xpoints = ypoints = plt.xlim()\n",
    "# plt.plot(xpoints, ypoints, linestyle='--', color='r', lw=3, scalex=False, scaley=False)\n",
    "plt.plot([0, 650], [0, 650], color = 'red', linewidth = 2)\n",
    "plt.xlim(-0.05, 650)\n",
    "plt.ylim(-0.05, 650)\n",
    "all_sample_title =f'Prediction of Normal ICU Patients RMSE:{XGBR_RMSE_R1}'\n",
    "ax.set_title(all_sample_title, size = 13)\n",
    "plt.show()\n"
   ]
  },
  {
   "cell_type": "code",
   "execution_count": 35,
   "metadata": {},
   "outputs": [],
   "source": [
    "###The method_ XGBOOST\n",
    "###R2\n",
    "\n",
    "##https://www.kaggle.com/code/carlmcbrideellis/an-introduction-to-xgboost-regression\n",
    "#=========================================================================\n",
    "# XGBoost regression: \n",
    "# Parameters: \n",
    "# n_estimators  \"Number of gradient boosted trees. Equivalent to number \n",
    "#                of boosting rounds.\"\n",
    "# learning_rate \"Boosting learning rate (also known as “eta”)\"\n",
    "# max_depth     \"Maximum depth of a tree. Increasing this value will make \n",
    "#                the model more complex and more likely to overfit.\" \n",
    "#=========================================================================\n",
    "\n",
    "\n",
    "\n",
    "from xgboost import XGBRegressor                # 1. choose model class\n",
    "model_XGBR = XGBRegressor(eval_metric='rmsle')                         # 2. instantiate model\n",
    "\n",
    "param_grid_XGB = {'n_estimators': [200, 1000, 1700, 2000],\n",
    "                     'max_depth': [4, 6, 8, 10],\n",
    "                     'learning_rate': [0.001, 0.01, 0.1, 0.5],\n",
    "                     'gamma': [0, 1, 5],\n",
    "                     'min_child_weight':[3, 6, 10],\n",
    "                     'subsample': [0.5, 0.8, 0.9]}\n",
    "\n",
    "search_XGBR_R2 = GridSearchCV(model_XGBR, \n",
    "                      param_grid = param_grid_XGB,\n",
    "                      cv = 5,\n",
    "                      scoring = 'neg_mean_squared_error',\n",
    "                      n_jobs= 8,\n",
    "                      )\n",
    "\n",
    "search_XGBR_R2.fit(X_dataR2_T, Y_dataR2_T)\n",
    "\n",
    "# predict the values \n",
    "Y_predict_XGBR_R2 = search_XGBR_R2.predict(X_dataR2_V) "
   ]
  },
  {
   "cell_type": "code",
   "execution_count": 36,
   "metadata": {},
   "outputs": [
    {
     "name": "stdout",
     "output_type": "stream",
     "text": [
      "MAE:  24.31\n",
      "MSE:  1035.29\n",
      "MAPE:  19.68\n",
      "RMSE:  32.18\n",
      "   Predict_mg/dl\n",
      "0     122.761032\n",
      "1     151.282516\n",
      "2     127.783371\n",
      "3     115.401993\n",
      "4     123.398010\n",
      "   Predict_mg/dl  Actual_mg/dl\n",
      "0     122.761032        75.625\n",
      "1     151.282516        93.100\n",
      "2     127.783371       123.000\n",
      "3     115.401993        96.450\n",
      "4     123.398010       139.000\n",
      "(32, 2)\n"
     ]
    },
    {
     "data": {
      "image/png": "[encoded data removed]",
      "text/plain": [
       "<Figure size 432x288 with 1 Axes>"
      ]
     },
     "metadata": {
      "needs_background": "light"
     },
     "output_type": "display_data"
    }
   ],
   "source": [
    "search_XGBR_R2.best_params_####最好的參數\n",
    "\n",
    "###\n",
    "###performance\n",
    "XGBR_MAE_R2 =round(mean_absolute_error(Y_dataR2_V, Y_predict_XGBR_R2),2)\n",
    "print(\"MAE: \",XGBR_MAE_R2)\n",
    "XGBR_MSE_R2 = round(mean_squared_error(Y_dataR2_V, Y_predict_XGBR_R2),2)\n",
    "print(\"MSE: \",XGBR_MSE_R2)\n",
    "XGBR_MAPE_R2= round(MAPE(Y_dataR2_V, Y_predict_XGBR_R2),2)\n",
    "print(\"MAPE: \",XGBR_MAPE_R2)\n",
    "XGBR_RMSE_R2 =round( mean_squared_error(Y_dataR2_V, Y_predict_XGBR_R2, squared=False),2)\n",
    "print(\"RMSE: \",XGBR_RMSE_R2)\n",
    "\n",
    "###\n",
    "XGBR_prediction_R2 = pd.DataFrame(Y_predict_XGBR_R2, columns =['Predict_mg/dl']) \n",
    "print(XGBR_prediction_R2.head()) \n",
    "\n",
    "\n",
    "\n",
    "XGBR_prediction_R2 = pd.concat([XGBR_prediction_R2,Y_dataR2_V],axis=1)\n",
    "XGBR_prediction_R2.rename(columns={'Concentration':'Actual_mg/dl'}, inplace =True)\n",
    "\n",
    "\n",
    "print(XGBR_prediction_R2.head())\n",
    "print(XGBR_prediction_R2.shape)\n",
    "\n",
    "####Plot\n",
    "fig, ax = plt.subplots()\n",
    "sns.scatterplot(data=XGBR_prediction_R2, x='Actual_mg/dl',y='Predict_mg/dl')\n",
    "# xpoints = ypoints = plt.xlim()\n",
    "# plt.plot(xpoints, ypoints, linestyle='--', color='r', lw=3, scalex=False, scaley=False)\n",
    "plt.plot([0, 650], [0, 650], color = 'red', linewidth = 2)\n",
    "plt.xlim(-0.05, 650)\n",
    "plt.ylim(-0.05, 650)\n",
    "all_sample_title =f'R2 Prediction of XGBR MAPE: {XGBR_MAPE_R2}, MAE:{XGBR_MAE_R2}, RMSE:{XGBR_RMSE_R2}'\n",
    "ax.set_title(all_sample_title, size = 13)\n",
    "plt.show()"
   ]
  },
  {
   "cell_type": "code",
   "execution_count": 37,
   "metadata": {},
   "outputs": [
    {
     "name": "stdout",
     "output_type": "stream",
     "text": [
      "MAE:  24.31\n",
      "MSE:  1035.29\n",
      "MAPE:  19.68\n",
      "RMSE:  32.18\n",
      "   Predict_mg/dl\n",
      "0     122.761032\n",
      "1     151.282516\n",
      "2     127.783371\n",
      "3     115.401993\n",
      "4     123.398010\n",
      "   Predict_mg/dl  Actual_mg/dl\n",
      "0     122.761032        75.625\n",
      "1     151.282516        93.100\n",
      "2     127.783371       123.000\n",
      "3     115.401993        96.450\n",
      "4     123.398010       139.000\n",
      "(32, 2)\n"
     ]
    },
    {
     "data": {
      "image/png": "[encoded data removed]",
      "text/plain": [
       "<Figure size 432x288 with 1 Axes>"
      ]
     },
     "metadata": {
      "needs_background": "light"
     },
     "output_type": "display_data"
    }
   ],
   "source": [
    "###\n",
    "###performance\n",
    "XGBR_MAE_R2 =round(mean_absolute_error(Y_dataR2_V, Y_predict_XGBR_R2),2)\n",
    "print(\"MAE: \",XGBR_MAE_R2)\n",
    "XGBR_MSE_R2 = round(mean_squared_error(Y_dataR2_V, Y_predict_XGBR_R2),2)\n",
    "print(\"MSE: \",XGBR_MSE_R2)\n",
    "XGBR_MAPE_R2= round(MAPE(Y_dataR2_V, Y_predict_XGBR_R2),2)\n",
    "print(\"MAPE: \",XGBR_MAPE_R2)\n",
    "XGBR_RMSE_R2 =round( mean_squared_error(Y_dataR2_V, Y_predict_XGBR_R2, squared=False),2)\n",
    "print(\"RMSE: \",XGBR_RMSE_R2)\n",
    "\n",
    "###\n",
    "XGBR_prediction_R2 = pd.DataFrame(Y_predict_XGBR_R2, columns =['Predict_mg/dl']) \n",
    "print(XGBR_prediction_R2.head()) \n",
    "\n",
    "\n",
    "\n",
    "XGBR_prediction_R2 = pd.concat([XGBR_prediction_R2,Y_dataR2_V],axis=1)\n",
    "XGBR_prediction_R2.rename(columns={'Concentration':'Actual_mg/dl'}, inplace =True)\n",
    "\n",
    "\n",
    "print(XGBR_prediction_R2.head())\n",
    "print(XGBR_prediction_R2.shape)\n",
    "\n",
    "####Plot\n",
    "fig, ax = plt.subplots()\n",
    "sns.scatterplot(data=XGBR_prediction_R2, x='Actual_mg/dl',y='Predict_mg/dl')\n",
    "# xpoints = ypoints = plt.xlim()\n",
    "# plt.plot(xpoints, ypoints, linestyle='--', color='r', lw=3, scalex=False, scaley=False)\n",
    "plt.plot([0, 650], [0, 650], color = 'red', linewidth = 2)\n",
    "plt.xlim(-0.05, 650)\n",
    "plt.ylim(-0.05, 650)\n",
    "all_sample_title =f'Prediction of Patients With Hetastarch RMSE:{XGBR_RMSE_R2}'\n",
    "ax.set_title(all_sample_title, size = 13)\n",
    "plt.show()"
   ]
  },
  {
   "cell_type": "code",
   "execution_count": null,
   "metadata": {},
   "outputs": [],
   "source": []
  },
  {
   "cell_type": "code",
   "execution_count": 39,
   "metadata": {},
   "outputs": [
    {
     "name": "stdout",
     "output_type": "stream",
     "text": [
      "MAE:  11.56\n",
      "MSE:  249.91\n",
      "MAPE:  10.06\n",
      "RMSE:  15.81\n",
      "   Predict_mg/dl\n",
      "0      88.573424\n",
      "1     109.718573\n",
      "2     152.822245\n",
      "3     128.378922\n",
      "4     164.454564\n",
      "   Predict_mg/dl  Actual_mg/dl\n",
      "0      88.573424        101.40\n",
      "1     109.718573        113.25\n",
      "2     152.822245        163.50\n",
      "3     128.378922        154.75\n",
      "4     164.454564        175.50\n",
      "(356, 2)\n"
     ]
    },
    {
     "name": "stderr",
     "output_type": "stream",
     "text": [
      "c:\\Users\\Gerry\\anaconda3\\lib\\site-packages\\sklearn\\linear_model\\_coordinate_descent.py:530: ConvergenceWarning: Objective did not converge. You might want to increase the number of iterations. Duality gap: 17248.485185628364, tolerance: 42.18677071749522\n",
      "  model = cd_fast.enet_coordinate_descent(\n"
     ]
    },
    {
     "data": {
      "image/png": "[encoded data removed]",
      "text/plain": [
       "<Figure size 432x288 with 1 Axes>"
      ]
     },
     "metadata": {
      "needs_background": "light"
     },
     "output_type": "display_data"
    }
   ],
   "source": [
    "###Lasso\n",
    "##R1\n",
    "# Performing GridSearchCV with Cross Validation technique on Lasso Regression and finding the optimum value of alpha\n",
    "\n",
    "params_grid_lasso = {'alpha': (np.logspace(-8, 8, 100))} # It will check from 1e-08 to 1e+08\n",
    "\n",
    "lasso = Lasso(normalize=True)\n",
    "\n",
    "search_lasso_R1 = GridSearchCV(lasso,params_grid_lasso, \n",
    "                       cv=5,\n",
    "                       scoring = 'neg_mean_squared_error',\n",
    "                       n_jobs= 8,\n",
    "                       )\n",
    "\n",
    "search_lasso_R1.fit(X_dataR1_T, Y_dataR1_T)\n",
    "\n",
    "Y_predict_lasso_R1 = search_lasso_R1.predict(X_dataR1_V) \n",
    "search_lasso_R1.best_params_####最好的參數\n",
    "\n",
    "\n",
    "###\n",
    "###performance\n",
    "lasso_MAE_R1 =round(mean_absolute_error(Y_dataR1_V, Y_predict_lasso_R1),2)\n",
    "print(\"MAE: \",lasso_MAE_R1)\n",
    "lasso_MSE_R1 = round(mean_squared_error(Y_dataR1_V, Y_predict_lasso_R1),2)\n",
    "print(\"MSE: \",lasso_MSE_R1)\n",
    "lasso_MAPE_R1= round(MAPE(Y_dataR1_V, Y_predict_lasso_R1),2)\n",
    "print(\"MAPE: \",lasso_MAPE_R1)\n",
    "lasso_RMSE_R1 =round( mean_squared_error(Y_dataR1_V, Y_predict_lasso_R1, squared=False),2)\n",
    "print(\"RMSE: \",lasso_RMSE_R1)\n",
    "\n",
    "###\n",
    "lasso_prediction_R1 = pd.DataFrame(Y_predict_lasso_R1, columns =['Predict_mg/dl']) \n",
    "print(lasso_prediction_R1.head()) \n",
    "\n",
    "\n",
    "\n",
    "lasso_prediction_R1 = pd.concat([lasso_prediction_R1,Y_dataR1_V],axis=1)\n",
    "lasso_prediction_R1.rename(columns={'Concentration':'Actual_mg/dl'}, inplace =True)\n",
    "\n",
    "\n",
    "print(lasso_prediction_R1.head())\n",
    "print(lasso_prediction_R1.shape)\n",
    "\n",
    "####Plot\n",
    "fig, ax = plt.subplots()\n",
    "sns.scatterplot(data=lasso_prediction_R1, x='Actual_mg/dl',y='Predict_mg/dl')\n",
    "# xpoints = ypoints = plt.xlim()\n",
    "# plt.plot(xpoints, ypoints, linestyle='--', color='r', lw=3, scalex=False, scaley=False)\n",
    "plt.plot([0, 650], [0, 650], color = 'red', linewidth = 2)\n",
    "plt.xlim(-0.05, 650)\n",
    "plt.ylim(-0.05, 650)\n",
    "all_sample_title =f'R1 Prediction of lasso MAPE: {lasso_MAPE_R1}, MAE:{lasso_MAE_R1}, RMSE:{lasso_RMSE_R1}'\n",
    "ax.set_title(all_sample_title, size = 13)\n",
    "plt.show()\n",
    "\n"
   ]
  },
  {
   "cell_type": "code",
   "execution_count": 40,
   "metadata": {},
   "outputs": [
    {
     "data": {
      "image/png": "[encoded data removed]",
      "text/plain": [
       "<Figure size 432x288 with 1 Axes>"
      ]
     },
     "metadata": {
      "needs_background": "light"
     },
     "output_type": "display_data"
    }
   ],
   "source": [
    "##R1\n",
    "\n",
    "\n",
    "####Plot\n",
    "fig, ax = plt.subplots()\n",
    "sns.scatterplot(data=lasso_prediction_R1, x='Actual_mg/dl',y='Predict_mg/dl')\n",
    "# xpoints = ypoints = plt.xlim()\n",
    "# plt.plot(xpoints, ypoints, linestyle='--', color='r', lw=3, scalex=False, scaley=False)\n",
    "plt.plot([0, 650], [0, 650], color = 'red', linewidth = 2)\n",
    "plt.xlim(-0.05, 650)\n",
    "plt.ylim(-0.05, 650)\n",
    "all_sample_title =f'Prediction of Normal ICU Patients RMSE:{lasso_RMSE_R1}'\n",
    "ax.set_title(all_sample_title, size = 13)\n",
    "plt.show()\n"
   ]
  },
  {
   "cell_type": "code",
   "execution_count": 41,
   "metadata": {},
   "outputs": [
    {
     "name": "stderr",
     "output_type": "stream",
     "text": [
      "c:\\Users\\Gerry\\anaconda3\\lib\\site-packages\\sklearn\\linear_model\\_coordinate_descent.py:526: ConvergenceWarning: Objective did not converge. You might want to increase the number of iterations. Duality gap: 8.481456588444416, tolerance: 6.532573169744319\n",
      "  model = cd_fast.enet_coordinate_descent_gram(\n",
      "c:\\Users\\Gerry\\anaconda3\\lib\\site-packages\\sklearn\\linear_model\\_coordinate_descent.py:526: ConvergenceWarning: Objective did not converge. You might want to increase the number of iterations. Duality gap: 24.782630071644235, tolerance: 7.62254137997159\n",
      "  model = cd_fast.enet_coordinate_descent_gram(\n",
      "c:\\Users\\Gerry\\anaconda3\\lib\\site-packages\\sklearn\\linear_model\\_coordinate_descent.py:526: ConvergenceWarning: Objective did not converge. You might want to increase the number of iterations. Duality gap: 115.44443434659115, tolerance: 7.62254137997159\n",
      "  model = cd_fast.enet_coordinate_descent_gram(\n",
      "c:\\Users\\Gerry\\anaconda3\\lib\\site-packages\\sklearn\\linear_model\\_coordinate_descent.py:526: ConvergenceWarning: Objective did not converge. You might want to increase the number of iterations. Duality gap: 6.675120611791499, tolerance: 6.524888868607954\n",
      "  model = cd_fast.enet_coordinate_descent_gram(\n",
      "c:\\Users\\Gerry\\anaconda3\\lib\\site-packages\\sklearn\\linear_model\\_coordinate_descent.py:526: ConvergenceWarning: Objective did not converge. You might want to increase the number of iterations. Duality gap: 70.8660734029545, tolerance: 6.524888868607954\n",
      "  model = cd_fast.enet_coordinate_descent_gram(\n",
      "c:\\Users\\Gerry\\anaconda3\\lib\\site-packages\\sklearn\\linear_model\\_coordinate_descent.py:526: ConvergenceWarning: Objective did not converge. You might want to increase the number of iterations. Duality gap: 8.697833298298065, tolerance: 7.353377610795456\n",
      "  model = cd_fast.enet_coordinate_descent_gram(\n",
      "c:\\Users\\Gerry\\anaconda3\\lib\\site-packages\\sklearn\\linear_model\\_coordinate_descent.py:526: ConvergenceWarning: Objective did not converge. You might want to increase the number of iterations. Duality gap: 113.48236402100156, tolerance: 7.353377610795456\n",
      "  model = cd_fast.enet_coordinate_descent_gram(\n",
      "c:\\Users\\Gerry\\anaconda3\\lib\\site-packages\\sklearn\\linear_model\\_coordinate_descent.py:526: ConvergenceWarning: Objective did not converge. You might want to increase the number of iterations. Duality gap: 28.06081631966663, tolerance: 7.343168749289774\n",
      "  model = cd_fast.enet_coordinate_descent_gram(\n",
      "c:\\Users\\Gerry\\anaconda3\\lib\\site-packages\\sklearn\\linear_model\\_coordinate_descent.py:526: ConvergenceWarning: Objective did not converge. You might want to increase the number of iterations. Duality gap: 138.74046533255023, tolerance: 7.343168749289774\n",
      "  model = cd_fast.enet_coordinate_descent_gram(\n"
     ]
    },
    {
     "name": "stdout",
     "output_type": "stream",
     "text": [
      "Best alpha : 0.0003\n",
      "Try again for more precision with alphas centered around 0.0003\n"
     ]
    },
    {
     "name": "stderr",
     "output_type": "stream",
     "text": [
      "c:\\Users\\Gerry\\anaconda3\\lib\\site-packages\\sklearn\\linear_model\\_coordinate_descent.py:526: ConvergenceWarning: Objective did not converge. You might want to increase the number of iterations. Duality gap: 8.963132855795266, tolerance: 6.532573169744319\n",
      "  model = cd_fast.enet_coordinate_descent_gram(\n",
      "c:\\Users\\Gerry\\anaconda3\\lib\\site-packages\\sklearn\\linear_model\\_coordinate_descent.py:526: ConvergenceWarning: Objective did not converge. You might want to increase the number of iterations. Duality gap: 13.106509915189235, tolerance: 6.532573169744319\n",
      "  model = cd_fast.enet_coordinate_descent_gram(\n",
      "c:\\Users\\Gerry\\anaconda3\\lib\\site-packages\\sklearn\\linear_model\\_coordinate_descent.py:526: ConvergenceWarning: Objective did not converge. You might want to increase the number of iterations. Duality gap: 145.2338436981081, tolerance: 6.524888868607954\n",
      "  model = cd_fast.enet_coordinate_descent_gram(\n",
      "c:\\Users\\Gerry\\anaconda3\\lib\\site-packages\\sklearn\\linear_model\\_coordinate_descent.py:526: ConvergenceWarning: Objective did not converge. You might want to increase the number of iterations. Duality gap: 51.98701239735237, tolerance: 7.353377610795456\n",
      "  model = cd_fast.enet_coordinate_descent_gram(\n",
      "c:\\Users\\Gerry\\anaconda3\\lib\\site-packages\\sklearn\\linear_model\\_coordinate_descent.py:526: ConvergenceWarning: Objective did not converge. You might want to increase the number of iterations. Duality gap: 11.87233374900643, tolerance: 7.353377610795456\n",
      "  model = cd_fast.enet_coordinate_descent_gram(\n",
      "c:\\Users\\Gerry\\anaconda3\\lib\\site-packages\\sklearn\\linear_model\\_coordinate_descent.py:526: ConvergenceWarning: Objective did not converge. You might want to increase the number of iterations. Duality gap: 14.76912217930294, tolerance: 7.353377610795456\n",
      "  model = cd_fast.enet_coordinate_descent_gram(\n",
      "c:\\Users\\Gerry\\anaconda3\\lib\\site-packages\\sklearn\\linear_model\\_coordinate_descent.py:526: ConvergenceWarning: Objective did not converge. You might want to increase the number of iterations. Duality gap: 17.57128336722235, tolerance: 7.343168749289774\n",
      "  model = cd_fast.enet_coordinate_descent_gram(\n",
      "c:\\Users\\Gerry\\anaconda3\\lib\\site-packages\\sklearn\\linear_model\\_coordinate_descent.py:526: ConvergenceWarning: Objective did not converge. You might want to increase the number of iterations. Duality gap: 14.76950905020567, tolerance: 7.343168749289774\n",
      "  model = cd_fast.enet_coordinate_descent_gram(\n",
      "c:\\Users\\Gerry\\anaconda3\\lib\\site-packages\\sklearn\\linear_model\\_coordinate_descent.py:526: ConvergenceWarning: Objective did not converge. You might want to increase the number of iterations. Duality gap: 18.22577608661595, tolerance: 7.343168749289774\n",
      "  model = cd_fast.enet_coordinate_descent_gram(\n",
      "c:\\Users\\Gerry\\anaconda3\\lib\\site-packages\\sklearn\\linear_model\\_coordinate_descent.py:526: ConvergenceWarning: Objective did not converge. You might want to increase the number of iterations. Duality gap: 19.912490713826628, tolerance: 7.343168749289774\n",
      "  model = cd_fast.enet_coordinate_descent_gram(\n"
     ]
    },
    {
     "name": "stdout",
     "output_type": "stream",
     "text": [
      "MAE:  11.08\n",
      "MSE:  181.32\n",
      "MAPE:  9.08\n",
      "RMSE:  13.47\n",
      "   Predict_mg/dl\n",
      "0      76.434771\n",
      "1     104.119847\n",
      "2     103.609681\n",
      "3      90.925619\n",
      "4     123.693998\n",
      "   Predict_mg/dl  Actual_mg/dl\n",
      "0      76.434771        75.625\n",
      "1     104.119847        93.100\n",
      "2     103.609681       123.000\n",
      "3      90.925619        96.450\n",
      "4     123.693998       139.000\n",
      "(32, 2)\n"
     ]
    },
    {
     "data": {
      "image/png": "[encoded data removed]",
      "text/plain": [
       "<Figure size 432x288 with 1 Axes>"
      ]
     },
     "metadata": {
      "needs_background": "light"
     },
     "output_type": "display_data"
    }
   ],
   "source": [
    "###Lasso\n",
    "##R2\n",
    "search_lasso_R2 = LassoCV(alphas = [0.0003, 0.0006, 0.001, 0.003, 0.006, 0.01, 0.03, 0.06, 0.1, \n",
    "                          0.3, 0.6, 1], \n",
    "                max_iter = 50000, cv = 5)\n",
    "search_lasso_R2.fit(X_dataR2_T, Y_dataR2_T)\n",
    "alpha = search_lasso_R2.alpha_\n",
    "print(\"Best alpha :\", alpha)\n",
    "\n",
    "print(\"Try again for more precision with alphas centered around \" + str(alpha))\n",
    "search_lasso_R2 = LassoCV(alphas = [alpha * .6, alpha * .65, alpha * .7, alpha * .75, alpha * .8, \n",
    "                          alpha * .85, alpha * .9, alpha * .95, alpha, alpha * 1.05, \n",
    "                          alpha * 1.1, alpha * 1.15, alpha * 1.25, alpha * 1.3, alpha * 1.35, \n",
    "                          alpha * 1.4], \n",
    "                max_iter = 50000, cv = 5)\n",
    "\n",
    "\n",
    "#params_grid_lasso = {'alpha': (np.logspace(-6, 6, 100))} # It will check from 1e-08 to 1e+08\n",
    "\n",
    "#lasso = Lasso(normalize=True)\n",
    "\n",
    "#search_lasso_R2 = GridSearchCV(lasso,params_grid_lasso, \n",
    "#                       cv=5,\n",
    "#                       scoring = 'neg_mean_squared_error',\n",
    "#                      n_jobs= 8,\n",
    "#                      )\n",
    "\n",
    "search_lasso_R2.fit(X_dataR2_T, Y_dataR2_T)\n",
    "\n",
    "Y_predict_lasso_R2 = search_lasso_R2.predict(X_dataR2_V) \n",
    "#print(search_lasso_R2.best_params_)####最好的參數\n",
    "\n",
    "\n",
    "###\n",
    "###performance\n",
    "lasso_MAE_R2 =round(mean_absolute_error(Y_dataR2_V, Y_predict_lasso_R2),2)\n",
    "print(\"MAE: \",lasso_MAE_R2)\n",
    "lasso_MSE_R2 = round(mean_squared_error(Y_dataR2_V, Y_predict_lasso_R2),2)\n",
    "print(\"MSE: \",lasso_MSE_R2)\n",
    "lasso_MAPE_R2= round(MAPE(Y_dataR2_V, Y_predict_lasso_R2),2)\n",
    "print(\"MAPE: \",lasso_MAPE_R2)\n",
    "lasso_RMSE_R2 =round( mean_squared_error(Y_dataR2_V, Y_predict_lasso_R2, squared=False),2)\n",
    "print(\"RMSE: \",lasso_RMSE_R2)\n",
    "\n",
    "###\n",
    "lasso_prediction_R2 = pd.DataFrame(Y_predict_lasso_R2, columns =['Predict_mg/dl']) \n",
    "print(lasso_prediction_R2.head()) \n",
    "\n",
    "\n",
    "\n",
    "lasso_prediction_R2 = pd.concat([lasso_prediction_R2,Y_dataR2_V],axis=1)\n",
    "lasso_prediction_R2.rename(columns={'Concentration':'Actual_mg/dl'}, inplace =True)\n",
    "\n",
    "\n",
    "print(lasso_prediction_R2.head())\n",
    "print(lasso_prediction_R2.shape)\n",
    "\n",
    "####Plot\n",
    "fig, ax = plt.subplots()\n",
    "sns.scatterplot(data=lasso_prediction_R2, x='Actual_mg/dl',y='Predict_mg/dl')\n",
    "# xpoints = ypoints = plt.xlim()\n",
    "# plt.plot(xpoints, ypoints, linestyle='--', color='r', lw=3, scalex=False, scaley=False)\n",
    "plt.plot([0, 650], [0, 650], color = 'red', linewidth = 2)\n",
    "plt.xlim(-0.05, 650)\n",
    "plt.ylim(-0.05, 650)\n",
    "all_sample_title =f'R2 Prediction of lasso MAPE: {lasso_MAPE_R2}, MAE:{lasso_MAE_R2}, RMSE:{lasso_RMSE_R2}'\n",
    "ax.set_title(all_sample_title, size = 13)\n",
    "plt.show()\n"
   ]
  },
  {
   "cell_type": "code",
   "execution_count": 42,
   "metadata": {},
   "outputs": [
    {
     "data": {
      "image/png": "[encoded data removed]",
      "text/plain": [
       "<Figure size 432x288 with 1 Axes>"
      ]
     },
     "metadata": {
      "needs_background": "light"
     },
     "output_type": "display_data"
    }
   ],
   "source": [
    "####Plot\n",
    "fig, ax = plt.subplots()\n",
    "sns.scatterplot(data=lasso_prediction_R2, x='Actual_mg/dl',y='Predict_mg/dl')\n",
    "# xpoints = ypoints = plt.xlim()\n",
    "# plt.plot(xpoints, ypoints, linestyle='--', color='r', lw=3, scalex=False, scaley=False)\n",
    "plt.plot([0, 650], [0, 650], color = 'red', linewidth = 2)\n",
    "plt.xlim(-0.05, 650)\n",
    "plt.ylim(-0.05, 650)\n",
    "all_sample_title =f'Prediction of Patients With Hetastarch RMSE:{lasso_RMSE_R2}'\n",
    "ax.set_title(all_sample_title, size = 13)\n",
    "plt.show()"
   ]
  },
  {
   "cell_type": "code",
   "execution_count": 14,
   "metadata": {},
   "outputs": [
    {
     "name": "stdout",
     "output_type": "stream",
     "text": [
      "  Algorithm  RMSE With Classification\n",
      "0       PLS                     18.29\n",
      "1     Lasso                     15.81\n",
      "2      XGBR                     35.70\n"
     ]
    }
   ],
   "source": [
    "# Plot the R1 predictions for each model\n",
    "\n",
    "RMSE_comparison={\"Algorithm\":['PLS','Lasso','XGBR'], \"RMSE With Classification\":[18.29,15.81,35.7]}\n",
    "\n",
    "RMSE_comparison=pd.DataFrame(data=RMSE_comparison)\n",
    "print(RMSE_comparison)"
   ]
  },
  {
   "cell_type": "code",
   "execution_count": 13,
   "metadata": {},
   "outputs": [
    {
     "name": "stdout",
     "output_type": "stream",
     "text": [
      "  Algorithm  RMSE With Classification\n",
      "0       PLS                     18.18\n",
      "1     Lasso                     13.47\n",
      "2       XGB                     32.18\n"
     ]
    }
   ],
   "source": [
    "# Plot the R2 predictions for each model\n",
    "\n",
    "RMSE_comparison_R2={\"Algorithm\":['PLS','Lasso','XGB'], \"RMSE With Classification\":[18.18,13.47,32.18]}\n",
    "RMSE_comparison_R2=pd.DataFrame(data=RMSE_comparison_R2)\n",
    "print(RMSE_comparison_R2)"
   ]
  }
 ],
 "metadata": {
  "interpreter": {
   "hash": "905d2aef39439ab295d2d01e75604ff90598299359f07a9d82e3c861ad926ad0"
  },
  "kernelspec": {
   "display_name": "Python 3.8.8 ('base')",
   "language": "python",
   "name": "python3"
  },
  "language_info": {
   "codemirror_mode": {
    "name": "ipython",
    "version": 3
   },
   "file_extension": ".py",
   "mimetype": "text/x-python",
   "name": "python",
   "nbconvert_exporter": "python",
   "pygments_lexer": "ipython3",
   "version": "3.10.9"
  },
  "orig_nbformat": 4
 },
 "nbformat": 4,
 "nbformat_minor": 2
}
