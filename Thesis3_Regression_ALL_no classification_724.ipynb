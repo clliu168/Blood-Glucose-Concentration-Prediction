{
 "cells": [
  {
   "cell_type": "code",
   "execution_count": 1,
   "metadata": {},
   "outputs": [],
   "source": [
    "import pandas as pd\n",
    "import numpy as np\n",
    "import matplotlib.pyplot as plt\n",
    "import seaborn as sns\n",
    "from  matplotlib.colors import LinearSegmentedColormap\n",
    "\n",
    "data1 = pd.read_csv('CS_ACP_CC.csv',encoding='big5')"
   ]
  },
  {
   "cell_type": "code",
   "execution_count": 2,
   "metadata": {},
   "outputs": [
    {
     "data": {
      "text/html": [
       "<div>\n",
       "<style scoped>\n",
       "    .dataframe tbody tr th:only-of-type {\n",
       "        vertical-align: middle;\n",
       "    }\n",
       "\n",
       "    .dataframe tbody tr th {\n",
       "        vertical-align: top;\n",
       "    }\n",
       "\n",
       "    .dataframe thead th {\n",
       "        text-align: right;\n",
       "    }\n",
       "</style>\n",
       "<table border=\"1\" class=\"dataframe\">\n",
       "  <thead>\n",
       "    <tr style=\"text-align: right;\">\n",
       "      <th></th>\n",
       "      <th>ID</th>\n",
       "      <th>ysiT</th>\n",
       "      <th>info_1</th>\n",
       "      <th>Wavelength_1</th>\n",
       "      <th>Wavelength_2</th>\n",
       "      <th>Wavelength_3</th>\n",
       "      <th>Wavelength_4</th>\n",
       "      <th>Wavelength_5</th>\n",
       "      <th>Wavelength_6</th>\n",
       "      <th>Wavelength_7</th>\n",
       "      <th>...</th>\n",
       "      <th>Wavelength_16</th>\n",
       "      <th>Wavelength_17</th>\n",
       "      <th>Wavelength_18</th>\n",
       "      <th>Wavelength_19</th>\n",
       "      <th>Wavelength_20</th>\n",
       "      <th>Wavelength_21</th>\n",
       "      <th>Wavelength_22</th>\n",
       "      <th>Wavelength_23</th>\n",
       "      <th>Wavelength_24</th>\n",
       "      <th>Wavelength_25</th>\n",
       "    </tr>\n",
       "  </thead>\n",
       "  <tbody>\n",
       "    <tr>\n",
       "      <th>1381</th>\n",
       "      <td>Cowley_R1</td>\n",
       "      <td>163.750</td>\n",
       "      <td>090_06</td>\n",
       "      <td>-0.048405</td>\n",
       "      <td>-0.033420</td>\n",
       "      <td>-0.016371</td>\n",
       "      <td>-0.008686</td>\n",
       "      <td>-0.006830</td>\n",
       "      <td>-0.000354</td>\n",
       "      <td>-0.001382</td>\n",
       "      <td>...</td>\n",
       "      <td>0.004749</td>\n",
       "      <td>0.008916</td>\n",
       "      <td>0.015318</td>\n",
       "      <td>0.020449</td>\n",
       "      <td>0.018168</td>\n",
       "      <td>0.021977</td>\n",
       "      <td>0.032238</td>\n",
       "      <td>0.035863</td>\n",
       "      <td>0.044775</td>\n",
       "      <td>0.033440</td>\n",
       "    </tr>\n",
       "    <tr>\n",
       "      <th>739</th>\n",
       "      <td>Normals</td>\n",
       "      <td>231.000</td>\n",
       "      <td>08160601CG0250L100PS</td>\n",
       "      <td>-0.082531</td>\n",
       "      <td>-0.070537</td>\n",
       "      <td>-0.050672</td>\n",
       "      <td>-0.035871</td>\n",
       "      <td>-0.031265</td>\n",
       "      <td>-0.020063</td>\n",
       "      <td>-0.015848</td>\n",
       "      <td>...</td>\n",
       "      <td>0.022391</td>\n",
       "      <td>0.029015</td>\n",
       "      <td>0.039109</td>\n",
       "      <td>0.045499</td>\n",
       "      <td>0.035493</td>\n",
       "      <td>0.030413</td>\n",
       "      <td>0.040240</td>\n",
       "      <td>0.058047</td>\n",
       "      <td>0.086475</td>\n",
       "      <td>0.074795</td>\n",
       "    </tr>\n",
       "    <tr>\n",
       "      <th>1287</th>\n",
       "      <td>Cowley_R1</td>\n",
       "      <td>73.850</td>\n",
       "      <td>047_05</td>\n",
       "      <td>-0.055351</td>\n",
       "      <td>-0.043216</td>\n",
       "      <td>-0.028787</td>\n",
       "      <td>-0.019538</td>\n",
       "      <td>-0.015117</td>\n",
       "      <td>-0.007111</td>\n",
       "      <td>-0.007345</td>\n",
       "      <td>...</td>\n",
       "      <td>0.010393</td>\n",
       "      <td>0.015005</td>\n",
       "      <td>0.022026</td>\n",
       "      <td>0.027197</td>\n",
       "      <td>0.023512</td>\n",
       "      <td>0.026372</td>\n",
       "      <td>0.037720</td>\n",
       "      <td>0.043861</td>\n",
       "      <td>0.054890</td>\n",
       "      <td>0.041357</td>\n",
       "    </tr>\n",
       "    <tr>\n",
       "      <th>1337</th>\n",
       "      <td>Cowley_R1</td>\n",
       "      <td>94.475</td>\n",
       "      <td>067_03</td>\n",
       "      <td>-0.062064</td>\n",
       "      <td>-0.052944</td>\n",
       "      <td>-0.039553</td>\n",
       "      <td>-0.028147</td>\n",
       "      <td>-0.021668</td>\n",
       "      <td>-0.011459</td>\n",
       "      <td>-0.009162</td>\n",
       "      <td>...</td>\n",
       "      <td>0.014944</td>\n",
       "      <td>0.018935</td>\n",
       "      <td>0.025381</td>\n",
       "      <td>0.029452</td>\n",
       "      <td>0.024234</td>\n",
       "      <td>0.026022</td>\n",
       "      <td>0.037389</td>\n",
       "      <td>0.045008</td>\n",
       "      <td>0.057107</td>\n",
       "      <td>0.043603</td>\n",
       "    </tr>\n",
       "    <tr>\n",
       "      <th>274</th>\n",
       "      <td>Normals</td>\n",
       "      <td>93.182</td>\n",
       "      <td>030034BG95P</td>\n",
       "      <td>-0.069726</td>\n",
       "      <td>-0.060373</td>\n",
       "      <td>-0.045887</td>\n",
       "      <td>-0.033685</td>\n",
       "      <td>-0.027332</td>\n",
       "      <td>-0.016554</td>\n",
       "      <td>-0.014391</td>\n",
       "      <td>...</td>\n",
       "      <td>0.019175</td>\n",
       "      <td>0.024675</td>\n",
       "      <td>0.032590</td>\n",
       "      <td>0.036232</td>\n",
       "      <td>0.028398</td>\n",
       "      <td>0.027532</td>\n",
       "      <td>0.036791</td>\n",
       "      <td>0.054153</td>\n",
       "      <td>0.075171</td>\n",
       "      <td>0.058586</td>\n",
       "    </tr>\n",
       "  </tbody>\n",
       "</table>\n",
       "<p>5 rows × 28 columns</p>\n",
       "</div>"
      ],
      "text/plain": [
       "             ID     ysiT                info_1  Wavelength_1  Wavelength_2  \\\n",
       "1381  Cowley_R1  163.750                090_06     -0.048405     -0.033420   \n",
       "739     Normals  231.000  08160601CG0250L100PS     -0.082531     -0.070537   \n",
       "1287  Cowley_R1   73.850                047_05     -0.055351     -0.043216   \n",
       "1337  Cowley_R1   94.475                067_03     -0.062064     -0.052944   \n",
       "274     Normals   93.182           030034BG95P     -0.069726     -0.060373   \n",
       "\n",
       "      Wavelength_3  Wavelength_4  Wavelength_5  Wavelength_6  Wavelength_7  \\\n",
       "1381     -0.016371     -0.008686     -0.006830     -0.000354     -0.001382   \n",
       "739      -0.050672     -0.035871     -0.031265     -0.020063     -0.015848   \n",
       "1287     -0.028787     -0.019538     -0.015117     -0.007111     -0.007345   \n",
       "1337     -0.039553     -0.028147     -0.021668     -0.011459     -0.009162   \n",
       "274      -0.045887     -0.033685     -0.027332     -0.016554     -0.014391   \n",
       "\n",
       "      ...  Wavelength_16  Wavelength_17  Wavelength_18  Wavelength_19  \\\n",
       "1381  ...       0.004749       0.008916       0.015318       0.020449   \n",
       "739   ...       0.022391       0.029015       0.039109       0.045499   \n",
       "1287  ...       0.010393       0.015005       0.022026       0.027197   \n",
       "1337  ...       0.014944       0.018935       0.025381       0.029452   \n",
       "274   ...       0.019175       0.024675       0.032590       0.036232   \n",
       "\n",
       "      Wavelength_20  Wavelength_21  Wavelength_22  Wavelength_23  \\\n",
       "1381       0.018168       0.021977       0.032238       0.035863   \n",
       "739        0.035493       0.030413       0.040240       0.058047   \n",
       "1287       0.023512       0.026372       0.037720       0.043861   \n",
       "1337       0.024234       0.026022       0.037389       0.045008   \n",
       "274        0.028398       0.027532       0.036791       0.054153   \n",
       "\n",
       "      Wavelength_24  Wavelength_25  \n",
       "1381       0.044775       0.033440  \n",
       "739        0.086475       0.074795  \n",
       "1287       0.054890       0.041357  \n",
       "1337       0.057107       0.043603  \n",
       "274        0.075171       0.058586  \n",
       "\n",
       "[5 rows x 28 columns]"
      ]
     },
     "execution_count": 2,
     "metadata": {},
     "output_type": "execute_result"
    }
   ],
   "source": [
    "data1.sample(5)   "
   ]
  },
  {
   "cell_type": "code",
   "execution_count": 4,
   "metadata": {},
   "outputs": [
    {
     "data": {
      "text/html": [
       "<div>\n",
       "<style scoped>\n",
       "    .dataframe tbody tr th:only-of-type {\n",
       "        vertical-align: middle;\n",
       "    }\n",
       "\n",
       "    .dataframe tbody tr th {\n",
       "        vertical-align: top;\n",
       "    }\n",
       "\n",
       "    .dataframe thead th {\n",
       "        text-align: right;\n",
       "    }\n",
       "</style>\n",
       "<table border=\"1\" class=\"dataframe\">\n",
       "  <thead>\n",
       "    <tr style=\"text-align: right;\">\n",
       "      <th></th>\n",
       "      <th>Type</th>\n",
       "      <th>Concentration</th>\n",
       "      <th>info_1</th>\n",
       "      <th>Wavelength_1</th>\n",
       "      <th>Wavelength_2</th>\n",
       "      <th>Wavelength_3</th>\n",
       "      <th>Wavelength_4</th>\n",
       "      <th>Wavelength_5</th>\n",
       "      <th>Wavelength_6</th>\n",
       "      <th>Wavelength_7</th>\n",
       "      <th>...</th>\n",
       "      <th>Wavelength_16</th>\n",
       "      <th>Wavelength_17</th>\n",
       "      <th>Wavelength_18</th>\n",
       "      <th>Wavelength_19</th>\n",
       "      <th>Wavelength_20</th>\n",
       "      <th>Wavelength_21</th>\n",
       "      <th>Wavelength_22</th>\n",
       "      <th>Wavelength_23</th>\n",
       "      <th>Wavelength_24</th>\n",
       "      <th>Wavelength_25</th>\n",
       "    </tr>\n",
       "  </thead>\n",
       "  <tbody>\n",
       "    <tr>\n",
       "      <th>499</th>\n",
       "      <td>Normals</td>\n",
       "      <td>93.418</td>\n",
       "      <td>05170603CG0050L100PS</td>\n",
       "      <td>-0.069429</td>\n",
       "      <td>-0.060485</td>\n",
       "      <td>-0.045655</td>\n",
       "      <td>-0.033440</td>\n",
       "      <td>-0.028568</td>\n",
       "      <td>-0.019118</td>\n",
       "      <td>-0.016853</td>\n",
       "      <td>...</td>\n",
       "      <td>0.019864</td>\n",
       "      <td>0.024926</td>\n",
       "      <td>0.032854</td>\n",
       "      <td>0.037589</td>\n",
       "      <td>0.029992</td>\n",
       "      <td>0.028869</td>\n",
       "      <td>0.036882</td>\n",
       "      <td>0.054065</td>\n",
       "      <td>0.076020</td>\n",
       "      <td>0.060793</td>\n",
       "    </tr>\n",
       "    <tr>\n",
       "      <th>1300</th>\n",
       "      <td>Cowley_R1</td>\n",
       "      <td>142.750</td>\n",
       "      <td>052_06</td>\n",
       "      <td>-0.057393</td>\n",
       "      <td>-0.046813</td>\n",
       "      <td>-0.030039</td>\n",
       "      <td>-0.018576</td>\n",
       "      <td>-0.014157</td>\n",
       "      <td>-0.005211</td>\n",
       "      <td>-0.005814</td>\n",
       "      <td>...</td>\n",
       "      <td>0.011050</td>\n",
       "      <td>0.014747</td>\n",
       "      <td>0.021153</td>\n",
       "      <td>0.026478</td>\n",
       "      <td>0.022850</td>\n",
       "      <td>0.025235</td>\n",
       "      <td>0.036522</td>\n",
       "      <td>0.043744</td>\n",
       "      <td>0.054767</td>\n",
       "      <td>0.041638</td>\n",
       "    </tr>\n",
       "    <tr>\n",
       "      <th>327</th>\n",
       "      <td>Normals</td>\n",
       "      <td>71.055</td>\n",
       "      <td>10100501CG70P</td>\n",
       "      <td>-0.067232</td>\n",
       "      <td>-0.059051</td>\n",
       "      <td>-0.047522</td>\n",
       "      <td>-0.036705</td>\n",
       "      <td>-0.030245</td>\n",
       "      <td>-0.020117</td>\n",
       "      <td>-0.017628</td>\n",
       "      <td>...</td>\n",
       "      <td>0.020665</td>\n",
       "      <td>0.027515</td>\n",
       "      <td>0.036062</td>\n",
       "      <td>0.039407</td>\n",
       "      <td>0.031485</td>\n",
       "      <td>0.031485</td>\n",
       "      <td>0.040898</td>\n",
       "      <td>0.054634</td>\n",
       "      <td>0.073106</td>\n",
       "      <td>0.055656</td>\n",
       "    </tr>\n",
       "    <tr>\n",
       "      <th>185</th>\n",
       "      <td>Normals</td>\n",
       "      <td>295.091</td>\n",
       "      <td>06150601CG290PS</td>\n",
       "      <td>-0.070084</td>\n",
       "      <td>-0.058004</td>\n",
       "      <td>-0.038468</td>\n",
       "      <td>-0.026262</td>\n",
       "      <td>-0.022761</td>\n",
       "      <td>-0.012292</td>\n",
       "      <td>-0.010403</td>\n",
       "      <td>...</td>\n",
       "      <td>0.017626</td>\n",
       "      <td>0.023269</td>\n",
       "      <td>0.031554</td>\n",
       "      <td>0.035839</td>\n",
       "      <td>0.027630</td>\n",
       "      <td>0.025317</td>\n",
       "      <td>0.034900</td>\n",
       "      <td>0.050471</td>\n",
       "      <td>0.072512</td>\n",
       "      <td>0.058474</td>\n",
       "    </tr>\n",
       "    <tr>\n",
       "      <th>597</th>\n",
       "      <td>Normals</td>\n",
       "      <td>159.273</td>\n",
       "      <td>000068BG160CP</td>\n",
       "      <td>-0.091207</td>\n",
       "      <td>-0.078864</td>\n",
       "      <td>-0.058584</td>\n",
       "      <td>-0.041510</td>\n",
       "      <td>-0.032677</td>\n",
       "      <td>-0.018432</td>\n",
       "      <td>-0.013273</td>\n",
       "      <td>...</td>\n",
       "      <td>0.026899</td>\n",
       "      <td>0.028852</td>\n",
       "      <td>0.035943</td>\n",
       "      <td>0.040111</td>\n",
       "      <td>0.029295</td>\n",
       "      <td>0.022689</td>\n",
       "      <td>0.031913</td>\n",
       "      <td>0.055833</td>\n",
       "      <td>0.087435</td>\n",
       "      <td>0.075005</td>\n",
       "    </tr>\n",
       "  </tbody>\n",
       "</table>\n",
       "<p>5 rows × 28 columns</p>\n",
       "</div>"
      ],
      "text/plain": [
       "           Type  Concentration                info_1  Wavelength_1  \\\n",
       "499     Normals         93.418  05170603CG0050L100PS     -0.069429   \n",
       "1300  Cowley_R1        142.750                052_06     -0.057393   \n",
       "327     Normals         71.055         10100501CG70P     -0.067232   \n",
       "185     Normals        295.091       06150601CG290PS     -0.070084   \n",
       "597     Normals        159.273         000068BG160CP     -0.091207   \n",
       "\n",
       "      Wavelength_2  Wavelength_3  Wavelength_4  Wavelength_5  Wavelength_6  \\\n",
       "499      -0.060485     -0.045655     -0.033440     -0.028568     -0.019118   \n",
       "1300     -0.046813     -0.030039     -0.018576     -0.014157     -0.005211   \n",
       "327      -0.059051     -0.047522     -0.036705     -0.030245     -0.020117   \n",
       "185      -0.058004     -0.038468     -0.026262     -0.022761     -0.012292   \n",
       "597      -0.078864     -0.058584     -0.041510     -0.032677     -0.018432   \n",
       "\n",
       "      Wavelength_7  ...  Wavelength_16  Wavelength_17  Wavelength_18  \\\n",
       "499      -0.016853  ...       0.019864       0.024926       0.032854   \n",
       "1300     -0.005814  ...       0.011050       0.014747       0.021153   \n",
       "327      -0.017628  ...       0.020665       0.027515       0.036062   \n",
       "185      -0.010403  ...       0.017626       0.023269       0.031554   \n",
       "597      -0.013273  ...       0.026899       0.028852       0.035943   \n",
       "\n",
       "      Wavelength_19  Wavelength_20  Wavelength_21  Wavelength_22  \\\n",
       "499        0.037589       0.029992       0.028869       0.036882   \n",
       "1300       0.026478       0.022850       0.025235       0.036522   \n",
       "327        0.039407       0.031485       0.031485       0.040898   \n",
       "185        0.035839       0.027630       0.025317       0.034900   \n",
       "597        0.040111       0.029295       0.022689       0.031913   \n",
       "\n",
       "      Wavelength_23  Wavelength_24  Wavelength_25  \n",
       "499        0.054065       0.076020       0.060793  \n",
       "1300       0.043744       0.054767       0.041638  \n",
       "327        0.054634       0.073106       0.055656  \n",
       "185        0.050471       0.072512       0.058474  \n",
       "597        0.055833       0.087435       0.075005  \n",
       "\n",
       "[5 rows x 28 columns]"
      ]
     },
     "execution_count": 4,
     "metadata": {},
     "output_type": "execute_result"
    }
   ],
   "source": [
    "##rename training set column\n",
    "data1.rename(columns={\"ID\":\"Type\",\"ysiT\":\"Concentration\"},inplace=True)\n",
    "data1.sample(5)   "
   ]
  },
  {
   "cell_type": "code",
   "execution_count": 5,
   "metadata": {},
   "outputs": [
    {
     "name": "stdout",
     "output_type": "stream",
     "text": [
      "          Type  Concentration  Wavelength_1  Wavelength_2  Wavelength_3  \\\n",
      "768  Cowley_R1        103.750     -0.056831     -0.049039     -0.037110   \n",
      "769  Cowley_R1        154.750     -0.057957     -0.048207     -0.033600   \n",
      "770  Cowley_R1        135.000     -0.057198     -0.048950     -0.036654   \n",
      "771  Cowley_R1         99.225     -0.053599     -0.046017     -0.035366   \n",
      "772  Cowley_R1        133.500     -0.053437     -0.044549     -0.031282   \n",
      "\n",
      "     Wavelength_4  Wavelength_5  Wavelength_6  Wavelength_7  Wavelength_8  \\\n",
      "768     -0.027735     -0.023469     -0.015346     -0.013575     -0.017487   \n",
      "769     -0.023542     -0.020122     -0.012470     -0.011685     -0.016502   \n",
      "770     -0.027245     -0.023236     -0.014749     -0.012591     -0.016913   \n",
      "771     -0.026690     -0.022138     -0.013987     -0.012311     -0.016736   \n",
      "772     -0.021983     -0.018300     -0.010589     -0.010003     -0.015493   \n",
      "\n",
      "     ...  Wavelength_16  Wavelength_17  Wavelength_18  Wavelength_19  \\\n",
      "768  ...       0.016330       0.021318       0.028238       0.031781   \n",
      "769  ...       0.014122       0.019579       0.026850       0.031229   \n",
      "770  ...       0.015088       0.021129       0.028905       0.032910   \n",
      "771  ...       0.014046       0.019780       0.027173       0.031301   \n",
      "772  ...       0.012040       0.016947       0.023772       0.028479   \n",
      "\n",
      "     Wavelength_20  Wavelength_21  Wavelength_22  Wavelength_23  \\\n",
      "768       0.025273       0.024260       0.032874       0.044898   \n",
      "769       0.025953       0.027288       0.037216       0.044372   \n",
      "770       0.026830       0.027326       0.037030       0.046014   \n",
      "771       0.026444       0.028462       0.038526       0.043929   \n",
      "772       0.024524       0.027301       0.038297       0.043475   \n",
      "\n",
      "     Wavelength_24  Wavelength_25  \n",
      "768       0.062252       0.050184  \n",
      "769       0.057201       0.044259  \n",
      "770       0.061305       0.048931  \n",
      "771       0.055580       0.043099  \n",
      "772       0.053830       0.041391  \n",
      "\n",
      "[5 rows x 27 columns]\n",
      "(523, 27)\n"
     ]
    }
   ],
   "source": [
    "###from data set to filter R1\n",
    "data_R1=data1[data1['Type']=='Cowley_R1']\n",
    "data_R1 = data_R1.drop(['info_1'], axis=1)\n",
    "\n",
    "print(data_R1.head())\n",
    "print(data_R1.shape)"
   ]
  },
  {
   "cell_type": "code",
   "execution_count": 6,
   "metadata": {},
   "outputs": [
    {
     "name": "stdout",
     "output_type": "stream",
     "text": [
      "          Type  Concentration  Wavelength_1  Wavelength_2  Wavelength_3  \\\n",
      "785  Cowley_R2        123.500     -0.036327      0.003729      0.028279   \n",
      "793  Cowley_R2         92.400     -0.039906     -0.009347      0.010777   \n",
      "795  Cowley_R2        186.250     -0.039540     -0.007521      0.016915   \n",
      "796  Cowley_R2        103.500     -0.022072      0.015217      0.035973   \n",
      "797  Cowley_R2         83.975     -0.047173     -0.019487      0.001536   \n",
      "\n",
      "     Wavelength_4  Wavelength_5  Wavelength_6  Wavelength_7  Wavelength_8  \\\n",
      "785      0.024692      0.020142      0.017611      0.012348     -0.002944   \n",
      "793      0.010944      0.009443      0.009952      0.006147     -0.006166   \n",
      "795      0.018583      0.016499      0.017624      0.012069     -0.002914   \n",
      "796      0.029887      0.023595      0.018396      0.013107     -0.000123   \n",
      "797      0.005338      0.006271      0.009144      0.005537     -0.007255   \n",
      "\n",
      "     ...  Wavelength_16  Wavelength_17  Wavelength_18  Wavelength_19  \\\n",
      "785  ...      -0.012057      -0.006664       0.001243       0.006507   \n",
      "793  ...      -0.005332      -0.000554       0.006444       0.011617   \n",
      "795  ...      -0.009983      -0.006165       0.000458       0.006917   \n",
      "796  ...      -0.016373      -0.011883      -0.005508      -0.000421   \n",
      "797  ...      -0.000353       0.001469       0.006834       0.011472   \n",
      "\n",
      "     Wavelength_20  Wavelength_21  Wavelength_22  Wavelength_23  \\\n",
      "785       0.003542       0.005915       0.015683       0.020423   \n",
      "793       0.009467       0.013051       0.023597       0.027436   \n",
      "795       0.006953       0.013375       0.026090       0.025929   \n",
      "796      -0.000420       0.004573       0.013467       0.011524   \n",
      "797       0.008939       0.010677       0.019627       0.029606   \n",
      "\n",
      "     Wavelength_24  Wavelength_25  \n",
      "785       0.031612       0.019938  \n",
      "793       0.037128       0.025098  \n",
      "795       0.030695       0.018220  \n",
      "796       0.015786       0.007488  \n",
      "797       0.044090       0.032571  \n",
      "\n",
      "[5 rows x 27 columns]\n",
      "(110, 27)\n"
     ]
    }
   ],
   "source": [
    "###from data set to filter R2\n",
    "data_R2=data1[data1['Type']=='Cowley_R2']\n",
    "data_R2 = data_R2.drop(['info_1'], axis=1)\n",
    "print(data_R2.head())\n",
    "print(data_R2.shape)"
   ]
  },
  {
   "cell_type": "code",
   "execution_count": 7,
   "metadata": {},
   "outputs": [
    {
     "name": "stdout",
     "output_type": "stream",
     "text": [
      "(633, 27)\n",
      "        Type  Concentration  Wavelength_1  Wavelength_2  Wavelength_3  \\\n",
      "0  Cowley_R1        103.750     -0.056831     -0.049039     -0.037110   \n",
      "1  Cowley_R1        154.750     -0.057957     -0.048207     -0.033600   \n",
      "2  Cowley_R1        135.000     -0.057198     -0.048950     -0.036654   \n",
      "3  Cowley_R1         99.225     -0.053599     -0.046017     -0.035366   \n",
      "4  Cowley_R1        133.500     -0.053437     -0.044549     -0.031282   \n",
      "\n",
      "   Wavelength_4  Wavelength_5  Wavelength_6  Wavelength_7  Wavelength_8  ...  \\\n",
      "0     -0.027735     -0.023469     -0.015346     -0.013575     -0.017487  ...   \n",
      "1     -0.023542     -0.020122     -0.012470     -0.011685     -0.016502  ...   \n",
      "2     -0.027245     -0.023236     -0.014749     -0.012591     -0.016913  ...   \n",
      "3     -0.026690     -0.022138     -0.013987     -0.012311     -0.016736  ...   \n",
      "4     -0.021983     -0.018300     -0.010589     -0.010003     -0.015493  ...   \n",
      "\n",
      "   Wavelength_16  Wavelength_17  Wavelength_18  Wavelength_19  Wavelength_20  \\\n",
      "0       0.016330       0.021318       0.028238       0.031781       0.025273   \n",
      "1       0.014122       0.019579       0.026850       0.031229       0.025953   \n",
      "2       0.015088       0.021129       0.028905       0.032910       0.026830   \n",
      "3       0.014046       0.019780       0.027173       0.031301       0.026444   \n",
      "4       0.012040       0.016947       0.023772       0.028479       0.024524   \n",
      "\n",
      "   Wavelength_21  Wavelength_22  Wavelength_23  Wavelength_24  Wavelength_25  \n",
      "0       0.024260       0.032874       0.044898       0.062252       0.050184  \n",
      "1       0.027288       0.037216       0.044372       0.057201       0.044259  \n",
      "2       0.027326       0.037030       0.046014       0.061305       0.048931  \n",
      "3       0.028462       0.038526       0.043929       0.055580       0.043099  \n",
      "4       0.027301       0.038297       0.043475       0.053830       0.041391  \n",
      "\n",
      "[5 rows x 27 columns]\n"
     ]
    }
   ],
   "source": [
    "###Training Set R1 R2 preparation\n",
    "data_R1R2 = pd.concat([data_R1,data_R2],axis=0,ignore_index=True)\n",
    "print(data_R1R2.shape)\n",
    "print(data_R1R2.head())"
   ]
  },
  {
   "cell_type": "code",
   "execution_count": 8,
   "metadata": {},
   "outputs": [
    {
     "data": {
      "text/html": [
       "<div>\n",
       "<style scoped>\n",
       "    .dataframe tbody tr th:only-of-type {\n",
       "        vertical-align: middle;\n",
       "    }\n",
       "\n",
       "    .dataframe tbody tr th {\n",
       "        vertical-align: top;\n",
       "    }\n",
       "\n",
       "    .dataframe thead th {\n",
       "        text-align: right;\n",
       "    }\n",
       "</style>\n",
       "<table border=\"1\" class=\"dataframe\">\n",
       "  <thead>\n",
       "    <tr style=\"text-align: right;\">\n",
       "      <th></th>\n",
       "      <th>Type</th>\n",
       "      <th>Concentration</th>\n",
       "      <th>Wavelength_1</th>\n",
       "      <th>Wavelength_2</th>\n",
       "      <th>Wavelength_3</th>\n",
       "      <th>Wavelength_4</th>\n",
       "      <th>Wavelength_5</th>\n",
       "      <th>Wavelength_6</th>\n",
       "      <th>Wavelength_7</th>\n",
       "      <th>Wavelength_8</th>\n",
       "      <th>...</th>\n",
       "      <th>Wavelength_16</th>\n",
       "      <th>Wavelength_17</th>\n",
       "      <th>Wavelength_18</th>\n",
       "      <th>Wavelength_19</th>\n",
       "      <th>Wavelength_20</th>\n",
       "      <th>Wavelength_21</th>\n",
       "      <th>Wavelength_22</th>\n",
       "      <th>Wavelength_23</th>\n",
       "      <th>Wavelength_24</th>\n",
       "      <th>Wavelength_25</th>\n",
       "    </tr>\n",
       "  </thead>\n",
       "  <tbody>\n",
       "    <tr>\n",
       "      <th>0</th>\n",
       "      <td>Cowley_R1</td>\n",
       "      <td>101.40</td>\n",
       "      <td>-0.056660</td>\n",
       "      <td>-0.034281</td>\n",
       "      <td>-0.014557</td>\n",
       "      <td>-0.007463</td>\n",
       "      <td>-0.004063</td>\n",
       "      <td>0.002785</td>\n",
       "      <td>0.001763</td>\n",
       "      <td>-0.009670</td>\n",
       "      <td>...</td>\n",
       "      <td>0.004577</td>\n",
       "      <td>0.007467</td>\n",
       "      <td>0.014168</td>\n",
       "      <td>0.020039</td>\n",
       "      <td>0.017172</td>\n",
       "      <td>0.019253</td>\n",
       "      <td>0.030499</td>\n",
       "      <td>0.039517</td>\n",
       "      <td>0.053933</td>\n",
       "      <td>0.042249</td>\n",
       "    </tr>\n",
       "    <tr>\n",
       "      <th>1</th>\n",
       "      <td>Cowley_R1</td>\n",
       "      <td>113.25</td>\n",
       "      <td>-0.043606</td>\n",
       "      <td>-0.023467</td>\n",
       "      <td>-0.006303</td>\n",
       "      <td>-0.002042</td>\n",
       "      <td>-0.001027</td>\n",
       "      <td>0.004096</td>\n",
       "      <td>0.003374</td>\n",
       "      <td>-0.005891</td>\n",
       "      <td>...</td>\n",
       "      <td>-0.000642</td>\n",
       "      <td>0.004463</td>\n",
       "      <td>0.011616</td>\n",
       "      <td>0.016680</td>\n",
       "      <td>0.013824</td>\n",
       "      <td>0.015516</td>\n",
       "      <td>0.025954</td>\n",
       "      <td>0.031643</td>\n",
       "      <td>0.042306</td>\n",
       "      <td>0.032555</td>\n",
       "    </tr>\n",
       "    <tr>\n",
       "      <th>2</th>\n",
       "      <td>Cowley_R1</td>\n",
       "      <td>163.50</td>\n",
       "      <td>-0.046414</td>\n",
       "      <td>-0.029546</td>\n",
       "      <td>-0.011595</td>\n",
       "      <td>-0.004386</td>\n",
       "      <td>-0.002266</td>\n",
       "      <td>0.005027</td>\n",
       "      <td>0.005252</td>\n",
       "      <td>-0.003423</td>\n",
       "      <td>...</td>\n",
       "      <td>0.000207</td>\n",
       "      <td>0.005070</td>\n",
       "      <td>0.012198</td>\n",
       "      <td>0.017262</td>\n",
       "      <td>0.013688</td>\n",
       "      <td>0.014548</td>\n",
       "      <td>0.023951</td>\n",
       "      <td>0.030368</td>\n",
       "      <td>0.042067</td>\n",
       "      <td>0.033650</td>\n",
       "    </tr>\n",
       "    <tr>\n",
       "      <th>3</th>\n",
       "      <td>Cowley_R1</td>\n",
       "      <td>154.75</td>\n",
       "      <td>-0.054410</td>\n",
       "      <td>-0.029967</td>\n",
       "      <td>-0.008355</td>\n",
       "      <td>-0.002521</td>\n",
       "      <td>-0.001502</td>\n",
       "      <td>0.003642</td>\n",
       "      <td>0.001672</td>\n",
       "      <td>-0.009785</td>\n",
       "      <td>...</td>\n",
       "      <td>0.002189</td>\n",
       "      <td>0.007011</td>\n",
       "      <td>0.014734</td>\n",
       "      <td>0.020784</td>\n",
       "      <td>0.016636</td>\n",
       "      <td>0.017333</td>\n",
       "      <td>0.028589</td>\n",
       "      <td>0.038640</td>\n",
       "      <td>0.054589</td>\n",
       "      <td>0.043283</td>\n",
       "    </tr>\n",
       "    <tr>\n",
       "      <th>4</th>\n",
       "      <td>Cowley_R1</td>\n",
       "      <td>175.50</td>\n",
       "      <td>-0.048192</td>\n",
       "      <td>-0.023789</td>\n",
       "      <td>-0.002546</td>\n",
       "      <td>0.001690</td>\n",
       "      <td>0.000784</td>\n",
       "      <td>0.004333</td>\n",
       "      <td>0.002995</td>\n",
       "      <td>-0.006510</td>\n",
       "      <td>...</td>\n",
       "      <td>-0.000297</td>\n",
       "      <td>0.005269</td>\n",
       "      <td>0.013158</td>\n",
       "      <td>0.018333</td>\n",
       "      <td>0.013363</td>\n",
       "      <td>0.012711</td>\n",
       "      <td>0.021745</td>\n",
       "      <td>0.031111</td>\n",
       "      <td>0.046631</td>\n",
       "      <td>0.037438</td>\n",
       "    </tr>\n",
       "  </tbody>\n",
       "</table>\n",
       "<p>5 rows × 27 columns</p>\n",
       "</div>"
      ],
      "text/plain": [
       "        Type  Concentration  Wavelength_1  Wavelength_2  Wavelength_3  \\\n",
       "0  Cowley_R1         101.40     -0.056660     -0.034281     -0.014557   \n",
       "1  Cowley_R1         113.25     -0.043606     -0.023467     -0.006303   \n",
       "2  Cowley_R1         163.50     -0.046414     -0.029546     -0.011595   \n",
       "3  Cowley_R1         154.75     -0.054410     -0.029967     -0.008355   \n",
       "4  Cowley_R1         175.50     -0.048192     -0.023789     -0.002546   \n",
       "\n",
       "   Wavelength_4  Wavelength_5  Wavelength_6  Wavelength_7  Wavelength_8  ...  \\\n",
       "0     -0.007463     -0.004063      0.002785      0.001763     -0.009670  ...   \n",
       "1     -0.002042     -0.001027      0.004096      0.003374     -0.005891  ...   \n",
       "2     -0.004386     -0.002266      0.005027      0.005252     -0.003423  ...   \n",
       "3     -0.002521     -0.001502      0.003642      0.001672     -0.009785  ...   \n",
       "4      0.001690      0.000784      0.004333      0.002995     -0.006510  ...   \n",
       "\n",
       "   Wavelength_16  Wavelength_17  Wavelength_18  Wavelength_19  Wavelength_20  \\\n",
       "0       0.004577       0.007467       0.014168       0.020039       0.017172   \n",
       "1      -0.000642       0.004463       0.011616       0.016680       0.013824   \n",
       "2       0.000207       0.005070       0.012198       0.017262       0.013688   \n",
       "3       0.002189       0.007011       0.014734       0.020784       0.016636   \n",
       "4      -0.000297       0.005269       0.013158       0.018333       0.013363   \n",
       "\n",
       "   Wavelength_21  Wavelength_22  Wavelength_23  Wavelength_24  Wavelength_25  \n",
       "0       0.019253       0.030499       0.039517       0.053933       0.042249  \n",
       "1       0.015516       0.025954       0.031643       0.042306       0.032555  \n",
       "2       0.014548       0.023951       0.030368       0.042067       0.033650  \n",
       "3       0.017333       0.028589       0.038640       0.054589       0.043283  \n",
       "4       0.012711       0.021745       0.031111       0.046631       0.037438  \n",
       "\n",
       "[5 rows x 27 columns]"
      ]
     },
     "execution_count": 8,
     "metadata": {},
     "output_type": "execute_result"
    }
   ],
   "source": [
    "##Read and rename Testing set R1\n",
    "dataR1_V = pd.read_csv('Val_R1_CC.csv',encoding='big5')\n",
    "dataR1_V.rename(columns={\"ID\":\"Type\",\"ysiP\":\"Concentration\"},inplace=True)\n",
    "dataR1_V = dataR1_V.drop(['info_1'], axis=1)\n",
    "dataR1_V.head()"
   ]
  },
  {
   "cell_type": "code",
   "execution_count": 9,
   "metadata": {},
   "outputs": [
    {
     "data": {
      "text/html": [
       "<div>\n",
       "<style scoped>\n",
       "    .dataframe tbody tr th:only-of-type {\n",
       "        vertical-align: middle;\n",
       "    }\n",
       "\n",
       "    .dataframe tbody tr th {\n",
       "        vertical-align: top;\n",
       "    }\n",
       "\n",
       "    .dataframe thead th {\n",
       "        text-align: right;\n",
       "    }\n",
       "</style>\n",
       "<table border=\"1\" class=\"dataframe\">\n",
       "  <thead>\n",
       "    <tr style=\"text-align: right;\">\n",
       "      <th></th>\n",
       "      <th>Type</th>\n",
       "      <th>Concentration</th>\n",
       "      <th>Wavelength_1</th>\n",
       "      <th>Wavelength_2</th>\n",
       "      <th>Wavelength_3</th>\n",
       "      <th>Wavelength_4</th>\n",
       "      <th>Wavelength_5</th>\n",
       "      <th>Wavelength_6</th>\n",
       "      <th>Wavelength_7</th>\n",
       "      <th>Wavelength_8</th>\n",
       "      <th>...</th>\n",
       "      <th>Wavelength_16</th>\n",
       "      <th>Wavelength_17</th>\n",
       "      <th>Wavelength_18</th>\n",
       "      <th>Wavelength_19</th>\n",
       "      <th>Wavelength_20</th>\n",
       "      <th>Wavelength_21</th>\n",
       "      <th>Wavelength_22</th>\n",
       "      <th>Wavelength_23</th>\n",
       "      <th>Wavelength_24</th>\n",
       "      <th>Wavelength_25</th>\n",
       "    </tr>\n",
       "  </thead>\n",
       "  <tbody>\n",
       "    <tr>\n",
       "      <th>0</th>\n",
       "      <td>Cowley_R2</td>\n",
       "      <td>75.625</td>\n",
       "      <td>-0.037475</td>\n",
       "      <td>-0.001602</td>\n",
       "      <td>0.020121</td>\n",
       "      <td>0.019053</td>\n",
       "      <td>0.017166</td>\n",
       "      <td>0.016322</td>\n",
       "      <td>0.011433</td>\n",
       "      <td>-0.004387</td>\n",
       "      <td>...</td>\n",
       "      <td>-0.011918</td>\n",
       "      <td>-0.007196</td>\n",
       "      <td>0.000485</td>\n",
       "      <td>0.007292</td>\n",
       "      <td>0.007895</td>\n",
       "      <td>0.015417</td>\n",
       "      <td>0.029966</td>\n",
       "      <td>0.026474</td>\n",
       "      <td>0.028579</td>\n",
       "      <td>0.016212</td>\n",
       "    </tr>\n",
       "    <tr>\n",
       "      <th>1</th>\n",
       "      <td>Cowley_R2</td>\n",
       "      <td>93.100</td>\n",
       "      <td>-0.038604</td>\n",
       "      <td>-0.010774</td>\n",
       "      <td>0.009055</td>\n",
       "      <td>0.010390</td>\n",
       "      <td>0.009297</td>\n",
       "      <td>0.011767</td>\n",
       "      <td>0.009376</td>\n",
       "      <td>-0.003029</td>\n",
       "      <td>...</td>\n",
       "      <td>-0.007197</td>\n",
       "      <td>-0.001955</td>\n",
       "      <td>0.005536</td>\n",
       "      <td>0.011408</td>\n",
       "      <td>0.009281</td>\n",
       "      <td>0.011512</td>\n",
       "      <td>0.021515</td>\n",
       "      <td>0.025787</td>\n",
       "      <td>0.035376</td>\n",
       "      <td>0.025938</td>\n",
       "    </tr>\n",
       "    <tr>\n",
       "      <th>2</th>\n",
       "      <td>Cowley_R2</td>\n",
       "      <td>123.000</td>\n",
       "      <td>-0.027267</td>\n",
       "      <td>0.012453</td>\n",
       "      <td>0.035006</td>\n",
       "      <td>0.029263</td>\n",
       "      <td>0.023707</td>\n",
       "      <td>0.020495</td>\n",
       "      <td>0.015150</td>\n",
       "      <td>-0.000124</td>\n",
       "      <td>...</td>\n",
       "      <td>-0.016906</td>\n",
       "      <td>-0.011475</td>\n",
       "      <td>-0.003810</td>\n",
       "      <td>0.002522</td>\n",
       "      <td>0.002435</td>\n",
       "      <td>0.007525</td>\n",
       "      <td>0.018265</td>\n",
       "      <td>0.016908</td>\n",
       "      <td>0.022261</td>\n",
       "      <td>0.012745</td>\n",
       "    </tr>\n",
       "    <tr>\n",
       "      <th>3</th>\n",
       "      <td>Cowley_R2</td>\n",
       "      <td>96.450</td>\n",
       "      <td>-0.023830</td>\n",
       "      <td>0.009763</td>\n",
       "      <td>0.027870</td>\n",
       "      <td>0.022670</td>\n",
       "      <td>0.018104</td>\n",
       "      <td>0.016183</td>\n",
       "      <td>0.012525</td>\n",
       "      <td>-0.000365</td>\n",
       "      <td>...</td>\n",
       "      <td>-0.014167</td>\n",
       "      <td>-0.008345</td>\n",
       "      <td>-0.000857</td>\n",
       "      <td>0.004540</td>\n",
       "      <td>0.003774</td>\n",
       "      <td>0.008180</td>\n",
       "      <td>0.017889</td>\n",
       "      <td>0.015740</td>\n",
       "      <td>0.020112</td>\n",
       "      <td>0.011696</td>\n",
       "    </tr>\n",
       "    <tr>\n",
       "      <th>4</th>\n",
       "      <td>Cowley_R2</td>\n",
       "      <td>139.000</td>\n",
       "      <td>-0.030701</td>\n",
       "      <td>0.000192</td>\n",
       "      <td>0.019704</td>\n",
       "      <td>0.017720</td>\n",
       "      <td>0.014217</td>\n",
       "      <td>0.014188</td>\n",
       "      <td>0.011288</td>\n",
       "      <td>-0.001235</td>\n",
       "      <td>...</td>\n",
       "      <td>-0.010602</td>\n",
       "      <td>-0.004953</td>\n",
       "      <td>0.002502</td>\n",
       "      <td>0.008016</td>\n",
       "      <td>0.006011</td>\n",
       "      <td>0.008811</td>\n",
       "      <td>0.018233</td>\n",
       "      <td>0.019397</td>\n",
       "      <td>0.026786</td>\n",
       "      <td>0.018202</td>\n",
       "    </tr>\n",
       "  </tbody>\n",
       "</table>\n",
       "<p>5 rows × 27 columns</p>\n",
       "</div>"
      ],
      "text/plain": [
       "        Type  Concentration  Wavelength_1  Wavelength_2  Wavelength_3  \\\n",
       "0  Cowley_R2         75.625     -0.037475     -0.001602      0.020121   \n",
       "1  Cowley_R2         93.100     -0.038604     -0.010774      0.009055   \n",
       "2  Cowley_R2        123.000     -0.027267      0.012453      0.035006   \n",
       "3  Cowley_R2         96.450     -0.023830      0.009763      0.027870   \n",
       "4  Cowley_R2        139.000     -0.030701      0.000192      0.019704   \n",
       "\n",
       "   Wavelength_4  Wavelength_5  Wavelength_6  Wavelength_7  Wavelength_8  ...  \\\n",
       "0      0.019053      0.017166      0.016322      0.011433     -0.004387  ...   \n",
       "1      0.010390      0.009297      0.011767      0.009376     -0.003029  ...   \n",
       "2      0.029263      0.023707      0.020495      0.015150     -0.000124  ...   \n",
       "3      0.022670      0.018104      0.016183      0.012525     -0.000365  ...   \n",
       "4      0.017720      0.014217      0.014188      0.011288     -0.001235  ...   \n",
       "\n",
       "   Wavelength_16  Wavelength_17  Wavelength_18  Wavelength_19  Wavelength_20  \\\n",
       "0      -0.011918      -0.007196       0.000485       0.007292       0.007895   \n",
       "1      -0.007197      -0.001955       0.005536       0.011408       0.009281   \n",
       "2      -0.016906      -0.011475      -0.003810       0.002522       0.002435   \n",
       "3      -0.014167      -0.008345      -0.000857       0.004540       0.003774   \n",
       "4      -0.010602      -0.004953       0.002502       0.008016       0.006011   \n",
       "\n",
       "   Wavelength_21  Wavelength_22  Wavelength_23  Wavelength_24  Wavelength_25  \n",
       "0       0.015417       0.029966       0.026474       0.028579       0.016212  \n",
       "1       0.011512       0.021515       0.025787       0.035376       0.025938  \n",
       "2       0.007525       0.018265       0.016908       0.022261       0.012745  \n",
       "3       0.008180       0.017889       0.015740       0.020112       0.011696  \n",
       "4       0.008811       0.018233       0.019397       0.026786       0.018202  \n",
       "\n",
       "[5 rows x 27 columns]"
      ]
     },
     "execution_count": 9,
     "metadata": {},
     "output_type": "execute_result"
    }
   ],
   "source": [
    "##Read and rename Testing set R2\n",
    "dataR2_V=pd.read_csv('Val_R2_CC.csv',encoding='big5')\n",
    "dataR2_V.rename(columns={\"info_1\":\"Type\",\"glucose\":\"Concentration\"},inplace=True)\n",
    "dataR2_V = dataR2_V.drop(['ID'], axis=1)\n",
    "dataR2_V.head()"
   ]
  },
  {
   "cell_type": "code",
   "execution_count": 10,
   "metadata": {},
   "outputs": [
    {
     "name": "stdout",
     "output_type": "stream",
     "text": [
      "          Type  Concentration  Wavelength_1  Wavelength_2  Wavelength_3  \\\n",
      "280  Cowley_R1        127.750     -0.061855     -0.052366     -0.037615   \n",
      "387  Cowley_R2        141.750     -0.034209     -0.004748      0.014565   \n",
      "184  Cowley_R1        108.750     -0.054161     -0.029009     -0.008306   \n",
      "282  Cowley_R1        117.750     -0.041224     -0.021269     -0.005177   \n",
      "381  Cowley_R2         97.975     -0.026518      0.009449      0.031281   \n",
      "\n",
      "     Wavelength_4  Wavelength_5  Wavelength_6  Wavelength_7  Wavelength_8  \\\n",
      "280     -0.026506     -0.021924     -0.013293     -0.012283     -0.017619   \n",
      "387      0.013433      0.010108      0.009667      0.006434     -0.004919   \n",
      "184     -0.002098      0.000007      0.005419      0.003361     -0.008911   \n",
      "282     -0.001526     -0.001569      0.001456     -0.000433     -0.009150   \n",
      "381      0.027308      0.022027      0.018853      0.013268     -0.000832   \n",
      "\n",
      "     ...  Wavelength_16  Wavelength_17  Wavelength_18  Wavelength_19  \\\n",
      "280  ...       0.015985       0.022002       0.029869       0.033922   \n",
      "387  ...      -0.007676      -0.001440       0.006137       0.011211   \n",
      "184  ...       0.001424       0.005259       0.012385       0.018395   \n",
      "282  ...       0.000328       0.005519       0.012468       0.017594   \n",
      "381  ...      -0.015190      -0.010280      -0.003502       0.002078   \n",
      "\n",
      "     Wavelength_20  Wavelength_21  Wavelength_22  Wavelength_23  \\\n",
      "280       0.027232       0.026551       0.036021       0.048066   \n",
      "387       0.009600       0.014217       0.023826       0.023434   \n",
      "184       0.016617       0.021732       0.033487       0.037608   \n",
      "282       0.015796       0.020406       0.030602       0.031535   \n",
      "381       0.002073       0.007185       0.016853       0.016400   \n",
      "\n",
      "     Wavelength_24  Wavelength_25  \n",
      "280       0.065896       0.052941  \n",
      "387       0.030179       0.019652  \n",
      "184       0.047987       0.034197  \n",
      "282       0.038355       0.027077  \n",
      "381       0.021679       0.011883  \n",
      "\n",
      "[5 rows x 27 columns]\n",
      "(388, 27)\n"
     ]
    }
   ],
   "source": [
    "##combine testing set R1 and R2\n",
    "dataR1R2_V=pd.concat([dataR1_V,dataR2_V],axis=0,ignore_index=True)\n",
    "print(dataR1R2_V.sample(5))\n",
    "print(dataR1R2_V.shape)"
   ]
  },
  {
   "cell_type": "code",
   "execution_count": 15,
   "metadata": {},
   "outputs": [
    {
     "name": "stdout",
     "output_type": "stream",
     "text": [
      "(388, 25)\n",
      "(388,)\n",
      "0    101.40\n",
      "1    113.25\n",
      "2    163.50\n",
      "3    154.75\n",
      "4    175.50\n",
      "Name: Concentration, dtype: float64\n"
     ]
    }
   ],
   "source": [
    "###Validation Set R1 R2 preparation\n",
    "###X and Y\n",
    "X_data_R1R2_V = dataR1R2_V.drop(['Type','Concentration'], axis=1)\n",
    "print(X_data_R1R2_V.shape)\n",
    "\n",
    "Y_data_R1R2_V = dataR1R2_V['Concentration']\n",
    "print(Y_data_R1R2_V .shape)\n",
    "print(Y_data_R1R2_V [:5])"
   ]
  },
  {
   "cell_type": "code",
   "execution_count": 11,
   "metadata": {},
   "outputs": [
    {
     "name": "stdout",
     "output_type": "stream",
     "text": [
      "(633, 27)\n"
     ]
    }
   ],
   "source": [
    "##rename training set\n",
    "data2=data_R1R2\n",
    "print(data2.shape)"
   ]
  },
  {
   "cell_type": "code",
   "execution_count": 12,
   "metadata": {},
   "outputs": [
    {
     "name": "stdout",
     "output_type": "stream",
     "text": [
      "(633, 25)\n",
      "(633,)\n",
      "0    103.750\n",
      "1    154.750\n",
      "2    135.000\n",
      "3     99.225\n",
      "4    133.500\n",
      "Name: Concentration, dtype: float64\n"
     ]
    }
   ],
   "source": [
    "#####Training set\n",
    "#####把label(Type and Concentration) 跟features分開\n",
    "X_data2_T = data2.drop(['Type','Concentration'], axis=1)\n",
    "print(X_data2_T.shape)\n",
    "\n",
    "Y_data2_T = data2['Concentration']\n",
    "print(Y_data2_T.shape)\n",
    "print(Y_data2_T[:5])"
   ]
  },
  {
   "cell_type": "code",
   "execution_count": 18,
   "metadata": {},
   "outputs": [
    {
     "name": "stdout",
     "output_type": "stream",
     "text": [
      "(388, 25)\n",
      "(388,)\n",
      "0    101.40\n",
      "1    113.25\n",
      "2    163.50\n",
      "3    154.75\n",
      "4    175.50\n",
      "Name: Concentration, dtype: float64\n"
     ]
    }
   ],
   "source": [
    "#####testing set\n",
    "#####把label(Type and Concentration) 跟features分開\n",
    "X_data_V = X_data_R1R2_V\n",
    "print(X_data_V.shape)\n",
    "\n",
    "Y_data_V = Y_data_R1R2_V\n",
    "print(Y_data_V.shape)\n",
    "print(Y_data_V[:5])"
   ]
  },
  {
   "cell_type": "code",
   "execution_count": 19,
   "metadata": {},
   "outputs": [],
   "source": [
    "###Directly Train model with training set\n",
    "###No spiliting\n",
    "####PLS\n",
    "\n",
    "from sklearn.cross_decomposition import PLSRegression \n",
    "# create PLSRegression model \n",
    "pls = PLSRegression(n_components=12) \n",
    "# fit the model \n",
    "pls.fit(X_data2_T, Y_data2_T) \n",
    "  \n",
    "# predict the values \n",
    "Y_predict_PLS = pls.predict(X_data_V)    "
   ]
  },
  {
   "cell_type": "code",
   "execution_count": 20,
   "metadata": {},
   "outputs": [
    {
     "name": "stdout",
     "output_type": "stream",
     "text": [
      "(388,)\n"
     ]
    }
   ],
   "source": [
    "###Original nparray dimension is 2\n",
    "###Reduce 2 to 1 dimension\n",
    "Y_predict_PLS = Y_predict_PLS.flatten()\n",
    "print(Y_predict_PLS.shape)"
   ]
  },
  {
   "cell_type": "code",
   "execution_count": 21,
   "metadata": {},
   "outputs": [
    {
     "name": "stdout",
     "output_type": "stream",
     "text": [
      "MAE:  12.92\n",
      "MSE:  404.15\n",
      "MAPE:  10.57\n",
      "RMSE:  20.1\n"
     ]
    }
   ],
   "source": [
    "from sklearn.metrics import mean_absolute_error, mean_squared_error\n",
    "#Defining MAPE function\n",
    "def MAPE(Y_actual,Y_Predicted):\n",
    "    mape = np.mean(np.abs((Y_actual - Y_Predicted)/Y_actual))*100\n",
    "    return mape\n",
    "    \n",
    "PLS_RMSE = round(mean_squared_error(Y_data_V, Y_predict_PLS, squared=False),2)\n",
    "print(\"RMSE: \",PLS_RMSE)\n"
   ]
  },
  {
   "cell_type": "code",
   "execution_count": 22,
   "metadata": {},
   "outputs": [
    {
     "name": "stdout",
     "output_type": "stream",
     "text": [
      "   Predict_mg/dl\n",
      "0      75.963463\n",
      "1      95.651883\n",
      "2     142.110629\n",
      "3     115.027553\n",
      "4     144.155272\n"
     ]
    }
   ],
   "source": [
    "PLS_prediction = pd.DataFrame(Y_predict_PLS, columns =['Predict_mg/dl']) \n",
    "print(PLS_prediction.head()) "
   ]
  },
  {
   "cell_type": "code",
   "execution_count": 23,
   "metadata": {},
   "outputs": [
    {
     "name": "stdout",
     "output_type": "stream",
     "text": [
      "   Predict_mg/dl  Actual_mg/dl       Type\n",
      "0      75.963463        101.40  Cowley_R1\n",
      "1      95.651883        113.25  Cowley_R1\n",
      "2     142.110629        163.50  Cowley_R1\n",
      "3     115.027553        154.75  Cowley_R1\n",
      "4     144.155272        175.50  Cowley_R1\n",
      "(388, 3)\n"
     ]
    }
   ],
   "source": [
    "##for scatter plot show type\n",
    "PLS_prediction\n",
    "Y_data_V\n",
    "# print(f_XGBR_Xtest_R2.head())\n",
    "# print(f_XGBR_ytest_R1.head())\n",
    "Type_data_V = dataR1R2_V['Type']\n",
    "\n",
    "PLS_prediction = pd.concat([PLS_prediction,Y_data_V],axis=1)\n",
    "PLS_prediction.rename(columns={'Concentration':'Actual_mg/dl'}, inplace =True)\n",
    "PLS_prediction = pd.concat([PLS_prediction,Type_data_V],axis=1)\n",
    "# # f_XGBR_test.rename(columns={\"0\":\"Predict_mg/dl\",\"1\":\"Actual_mg/dl \"}, inplace= True)\n",
    "print(PLS_prediction.head())\n",
    "print(PLS_prediction.shape)"
   ]
  },
  {
   "cell_type": "code",
   "execution_count": 24,
   "metadata": {},
   "outputs": [
    {
     "data": {
      "image/png": "[encoded data removed]",
      "text/plain": [
       "<Figure size 432x288 with 1 Axes>"
      ]
     },
     "metadata": {
      "needs_background": "light"
     },
     "output_type": "display_data"
    }
   ],
   "source": [
    "####Plot\n",
    "fig, ax = plt.subplots()\n",
    "sns.scatterplot(data=PLS_prediction, x='Actual_mg/dl',y='Predict_mg/dl', hue='Type')\n",
    "plt.plot([0, 650], [0, 650], color = 'red', linewidth = 2)\n",
    "plt.xlim(-0.05, 650)\n",
    "plt.ylim(-0.05, 650)\n",
    "all_sample_title =f'All types Prediction RMSE:{PLS_RMSE}'\n",
    "ax.set_title(all_sample_title, size = 13)###(\"All types Prediction, MAPE: 10.051, MAE:12.015, RMSE=  17.826\")\n",
    "\n",
    "plt.show()"
   ]
  },
  {
   "cell_type": "code",
   "execution_count": 25,
   "metadata": {},
   "outputs": [
    {
     "name": "stdout",
     "output_type": "stream",
     "text": [
      "(356, 25)\n",
      "(356,)\n",
      "0    101.40\n",
      "1    113.25\n",
      "2    163.50\n",
      "3    154.75\n",
      "4    175.50\n",
      "Name: Concentration, dtype: float64\n"
     ]
    }
   ],
   "source": [
    "####Using the model which was trained by all to predict different type individually\n",
    "####Validate R1 remove label\n",
    "X_data_R1_V = dataR1_V.drop(['Type','Concentration'], axis=1)\n",
    "print(X_data_R1_V.shape)\n",
    "\n",
    "Y_data_R1_V = dataR1_V['Concentration']\n",
    "print(Y_data_R1_V.shape)\n",
    "print(Y_data_R1_V[:5])\n"
   ]
  },
  {
   "cell_type": "code",
   "execution_count": 26,
   "metadata": {},
   "outputs": [
    {
     "name": "stdout",
     "output_type": "stream",
     "text": [
      "(356,)\n"
     ]
    }
   ],
   "source": [
    "### R1 testing\n",
    "Y_predict_PLS_R1 = pls.predict(X_data_R1_V)   \n",
    "\n",
    "###Original nparray dimension is 2\n",
    "###Reduce 2 to 1 dimension\n",
    "Y_predict_PLS_R1 = Y_predict_PLS_R1.flatten()\n",
    "print(Y_predict_PLS_R1.shape)"
   ]
  },
  {
   "cell_type": "code",
   "execution_count": 27,
   "metadata": {},
   "outputs": [
    {
     "name": "stdout",
     "output_type": "stream",
     "text": [
      "MAE:  12.71\n",
      "MSE:  407.14\n",
      "MAPE:  10.4\n",
      "RMSE:  20.18\n"
     ]
    }
   ],
   "source": [
    "####checking performance\n",
    "\n",
    "PLS_RMSE_R1 =round( mean_squared_error(Y_data_R1_V, Y_predict_PLS_R1, squared=False),2)\n",
    "print(\"RMSE: \",PLS_RMSE_R1)\n"
   ]
  },
  {
   "cell_type": "code",
   "execution_count": 28,
   "metadata": {},
   "outputs": [
    {
     "name": "stdout",
     "output_type": "stream",
     "text": [
      "   Predict_mg/dl\n",
      "0      75.963463\n",
      "1      95.651883\n",
      "2     142.110629\n",
      "3     115.027553\n",
      "4     144.155272\n",
      "   Predict_mg/dl  Actual_mg/dl\n",
      "0      75.963463        101.40\n",
      "1      95.651883        113.25\n",
      "2     142.110629        163.50\n",
      "3     115.027553        154.75\n",
      "4     144.155272        175.50\n",
      "(356, 2)\n"
     ]
    }
   ],
   "source": [
    "PLS_prediction_R1 = pd.DataFrame(Y_predict_PLS_R1, columns =['Predict_mg/dl']) \n",
    "print(PLS_prediction_R1.head()) \n",
    "##for scatter plot show type\n",
    "\n",
    "# print(f_XGBR_Xtest_R1.head())\n",
    "# print(f_XGBR_ytest_R1.head())\n",
    "\n",
    "PLS_prediction_R1 = pd.concat([PLS_prediction_R1,Y_data_R1_V],axis=1)\n",
    "PLS_prediction_R1.rename(columns={'Concentration':'Actual_mg/dl'}, inplace =True)\n",
    "# # f_XGBR_test.rename(columns={\"0\":\"Predict_mg/dl\",\"1\":\"Actual_mg/dl \"}, inplace= True)\n",
    "print(PLS_prediction_R1.head())\n",
    "print(PLS_prediction_R1.shape)"
   ]
  },
  {
   "cell_type": "code",
   "execution_count": 29,
   "metadata": {},
   "outputs": [
    {
     "data": {
      "image/png": "[encoded data removed]",
      "text/plain": [
       "<Figure size 432x288 with 1 Axes>"
      ]
     },
     "metadata": {
      "needs_background": "light"
     },
     "output_type": "display_data"
    }
   ],
   "source": [
    "####Plot\n",
    "fig, ax = plt.subplots()\n",
    "sns.scatterplot(data=PLS_prediction_R1, x='Actual_mg/dl',y='Predict_mg/dl')\n",
    "# xpoints = ypoints = plt.xlim()\n",
    "# plt.plot(xpoints, ypoints, linestyle='--', color='r', lw=3, scalex=False, scaley=False)\n",
    "plt.plot([0, 650], [0, 650], color = 'red', linewidth = 2)\n",
    "plt.xlim(-0.05, 650)\n",
    "plt.ylim(-0.05, 650)\n",
    "all_sample_title =f'R1 Prediction MAPE: {PLS_MAPE_R1}, MAE:{PLS_MAE_R1}, RMSE:{PLS_RMSE_R1}'\n",
    "ax.set_title(all_sample_title, size = 13)\n",
    "\n",
    "plt.show()"
   ]
  },
  {
   "cell_type": "code",
   "execution_count": 30,
   "metadata": {},
   "outputs": [
    {
     "name": "stdout",
     "output_type": "stream",
     "text": [
      "(32, 25)\n",
      "(32,)\n",
      "0     75.625\n",
      "1     93.100\n",
      "2    123.000\n",
      "3     96.450\n",
      "4    139.000\n",
      "Name: Concentration, dtype: float64\n"
     ]
    }
   ],
   "source": [
    "####Using the model which was trained by all to predict different type individually\n",
    "####Validate R1 remove label\n",
    "X_data_R2_V = dataR2_V.drop(['Type','Concentration'], axis=1)\n",
    "print(X_data_R2_V.shape)\n",
    "\n",
    "Y_data_R2_V = dataR2_V['Concentration']\n",
    "print(Y_data_R2_V.shape)\n",
    "print(Y_data_R2_V[:5])"
   ]
  },
  {
   "cell_type": "code",
   "execution_count": 31,
   "metadata": {},
   "outputs": [
    {
     "name": "stdout",
     "output_type": "stream",
     "text": [
      "(32,)\n"
     ]
    }
   ],
   "source": [
    "### R2 testing\n",
    "Y_predict_PLS_R2 = pls.predict(X_data_R2_V)   \n",
    "\n",
    "###Original nparray dimension is 2\n",
    "###Reduce 2 to 1 dimension\n",
    "Y_predict_PLS_R2 = Y_predict_PLS_R2.flatten()\n",
    "print(Y_predict_PLS_R2.shape)"
   ]
  },
  {
   "cell_type": "code",
   "execution_count": 32,
   "metadata": {},
   "outputs": [
    {
     "name": "stdout",
     "output_type": "stream",
     "text": [
      "MAE:  15.3\n",
      "MSE:  370.9\n",
      "MAPE:  12.55\n",
      "RMSE:  19.26\n"
     ]
    }
   ],
   "source": [
    "####checking performance\n",
    "\n",
    "PLS_RMSE_R2 =round( mean_squared_error(Y_data_R2_V, Y_predict_PLS_R2, squared=False),2)\n",
    "print(\"RMSE: \",PLS_RMSE_R2)\n",
    "\n"
   ]
  },
  {
   "cell_type": "code",
   "execution_count": 33,
   "metadata": {},
   "outputs": [
    {
     "name": "stdout",
     "output_type": "stream",
     "text": [
      "   Predict_mg/dl\n",
      "0      59.816529\n",
      "1      79.778965\n",
      "2      86.691372\n",
      "3      75.184512\n",
      "4     109.526177\n",
      "   Predict_mg/dl  Actual_mg/dl\n",
      "0      59.816529        75.625\n",
      "1      79.778965        93.100\n",
      "2      86.691372       123.000\n",
      "3      75.184512        96.450\n",
      "4     109.526177       139.000\n",
      "(32, 2)\n"
     ]
    }
   ],
   "source": [
    "PLS_prediction_R2 = pd.DataFrame(Y_predict_PLS_R2, columns =['Predict_mg/dl']) \n",
    "print(PLS_prediction_R2.head()) \n",
    "##for scatter plot show type\n",
    "\n",
    "# print(f_XGBR_Xtest_R1.head())\n",
    "# print(f_XGBR_ytest_R1.head())\n",
    "\n",
    "PLS_prediction_R2 = pd.concat([PLS_prediction_R2,Y_data_R2_V],axis=1)\n",
    "PLS_prediction_R2.rename(columns={'Concentration':'Actual_mg/dl'}, inplace =True)\n",
    "# # f_XGBR_test.rename(columns={\"0\":\"Predict_mg/dl\",\"1\":\"Actual_mg/dl \"}, inplace= True)\n",
    "print(PLS_prediction_R2.head())\n",
    "print(PLS_prediction_R2.shape)"
   ]
  },
  {
   "cell_type": "code",
   "execution_count": 34,
   "metadata": {},
   "outputs": [
    {
     "data": {
      "image/png": "[encoded data removed]",
      "text/plain": [
       "<Figure size 432x288 with 1 Axes>"
      ]
     },
     "metadata": {
      "needs_background": "light"
     },
     "output_type": "display_data"
    }
   ],
   "source": [
    "####Plot\n",
    "fig, ax = plt.subplots()\n",
    "sns.scatterplot(data=PLS_prediction_R2, x='Actual_mg/dl',y='Predict_mg/dl')\n",
    "# xpoints = ypoints = plt.xlim()\n",
    "# plt.plot(xpoints, ypoints, linestyle='--', color='r', lw=3, scalex=False, scaley=False)\n",
    "plt.plot([0, 650], [0, 650], color = 'red', linewidth = 2)\n",
    "plt.xlim(-0.05, 650)\n",
    "plt.ylim(-0.05, 650)\n",
    "\n",
    "all_sample_title =f'R2 Prediction MAPE: {PLS_MAPE_R2}, MAE:{PLS_MAE_R2}, RMSE:{PLS_RMSE_R2}'\n",
    "ax.set_title(all_sample_title, size = 13)\n",
    "\n",
    "\n",
    "plt.show()"
   ]
  },
  {
   "cell_type": "code",
   "execution_count": 35,
   "metadata": {},
   "outputs": [],
   "source": [
    "from sklearn.linear_model import LinearRegression\n",
    "from sklearn.linear_model import Lasso\n",
    "from sklearn.linear_model import LassoCV\n",
    "from sklearn.model_selection import KFold\n",
    "from numpy import mean\n",
    "from numpy import absolute\n",
    "from numpy import sqrt\n",
    "from sklearn.model_selection import ShuffleSplit, GridSearchCV"
   ]
  },
  {
   "cell_type": "code",
   "execution_count": null,
   "metadata": {},
   "outputs": [],
   "source": []
  },
  {
   "cell_type": "code",
   "execution_count": null,
   "metadata": {},
   "outputs": [],
   "source": []
  },
  {
   "cell_type": "code",
   "execution_count": 49,
   "metadata": {},
   "outputs": [],
   "source": [
    "###The method_ XGBOOST\n",
    "##https://www.kaggle.com/code/carlmcbrideellis/an-introduction-to-xgboost-regression\n",
    "#=========================================================================\n",
    "# XGBoost regression: \n",
    "# Parameters: \n",
    "# n_estimators  \"Number of gradient boosted trees. Equivalent to number \n",
    "#                of boosting rounds.\"\n",
    "# learning_rate \"Boosting learning rate (also known as “eta”)\"\n",
    "# max_depth     \"Maximum depth of a tree. Increasing this value will make \n",
    "#                the model more complex and more likely to overfit.\" \n",
    "#=========================================================================\n",
    "\n",
    "\n",
    "\n",
    "from xgboost import XGBRegressor                # 1. choose model class\n",
    "model_XGBR = XGBRegressor(eval_metric='rmsle')                         # 2. instantiate model\n",
    "\n",
    "#param_grid_XGB = {'n_estimators': [200, 1000, 1700, 2000],\n",
    "#                     'max_depth': [4, 6, 8, 10],\n",
    "#                     'learning_rate': [0.001, 0.01, 0.1, 0.5],\n",
    "#                     'gamma': [0, 1, 5],\n",
    "#                     'min_child_weight':[3, 6, 10],\n",
    "#                     'subsample': [0.5, 0.8, 0.9]}\n",
    "\n",
    "#search_XGBR = GridSearchCV(model_XGBR, \n",
    "#                      param_grid = param_grid_XGB,\n",
    "#                      cv = 5,\n",
    "#                      scoring = 'neg_mean_squared_error',\n",
    "#                      n_jobs= 8,\n",
    "#                      )\n",
    "\n",
    "####上面是grid search 的code 下面是我直接用之前跑出來最佳參數\n",
    "param_grid_XGB = {'gamma': [0],\n",
    " 'learning_rate': [0.1],\n",
    " 'max_depth': [4],\n",
    " 'min_child_weight': [10],\n",
    " 'n_estimators': [2000],\n",
    " 'subsample': [0.5]}\n",
    "\n",
    "search_XGBR = GridSearchCV(model_XGBR, \n",
    "                      param_grid = param_grid_XGB,\n",
    "                      scoring = 'neg_mean_squared_error',\n",
    "                      )\n",
    "\n",
    "search_XGBR.fit(X_data2_T, Y_data2_T)\n",
    "\n",
    "\n",
    "Y_predict_XGBR = search_XGBR.predict(X_data_V)                "
   ]
  },
  {
   "cell_type": "code",
   "execution_count": 50,
   "metadata": {},
   "outputs": [
    {
     "data": {
      "text/plain": [
       "{'gamma': 0,\n",
       " 'learning_rate': 0.1,\n",
       " 'max_depth': 4,\n",
       " 'min_child_weight': 10,\n",
       " 'n_estimators': 2000,\n",
       " 'subsample': 0.5}"
      ]
     },
     "execution_count": 50,
     "metadata": {},
     "output_type": "execute_result"
    }
   ],
   "source": [
    "search_XGBR.best_params_####最好的參數"
   ]
  },
  {
   "cell_type": "code",
   "execution_count": 51,
   "metadata": {},
   "outputs": [
    {
     "name": "stdout",
     "output_type": "stream",
     "text": [
      "MAE:  27.66\n",
      "MSE:  1266.82\n",
      "MAPE:  23.07\n",
      "RMSE:  35.59\n"
     ]
    }
   ],
   "source": [
    "\n",
    "XGBR_RMSE = round(mean_squared_error(Y_data_V, Y_predict_XGBR, squared=False),2)\n",
    "print(\"RMSE: \",XGBR_RMSE)"
   ]
  },
  {
   "cell_type": "code",
   "execution_count": 52,
   "metadata": {},
   "outputs": [
    {
     "name": "stdout",
     "output_type": "stream",
     "text": [
      "   Predict_mg/dl\n",
      "0     127.305382\n",
      "1     142.356247\n",
      "2     138.745193\n",
      "3     113.557014\n",
      "4     160.235962\n"
     ]
    }
   ],
   "source": [
    "XGBR_prediction = pd.DataFrame(Y_predict_XGBR, columns =['Predict_mg/dl']) \n",
    "print(XGBR_prediction.head()) "
   ]
  },
  {
   "cell_type": "code",
   "execution_count": 53,
   "metadata": {},
   "outputs": [
    {
     "name": "stdout",
     "output_type": "stream",
     "text": [
      "   Predict_mg/dl  Actual_mg/dl       Type\n",
      "0     127.305382        101.40  Cowley_R1\n",
      "1     142.356247        113.25  Cowley_R1\n",
      "2     138.745193        163.50  Cowley_R1\n",
      "3     113.557014        154.75  Cowley_R1\n",
      "4     160.235962        175.50  Cowley_R1\n",
      "(388, 3)\n"
     ]
    }
   ],
   "source": [
    "\n",
    "\n",
    "\n",
    "XGBR_prediction = pd.concat([XGBR_prediction,Y_data_V],axis=1)\n",
    "XGBR_prediction.rename(columns={'Concentration':'Actual_mg/dl'}, inplace =True)\n",
    "XGBR_prediction = pd.concat([XGBR_prediction,Type_data_V],axis=1)\n",
    "# # f_XGBR_test.rename(columns={\"0\":\"Predict_mg/dl\",\"1\":\"Actual_mg/dl \"}, inplace= True)\n",
    "print(XGBR_prediction.head())\n",
    "print(XGBR_prediction.shape)"
   ]
  },
  {
   "cell_type": "code",
   "execution_count": 54,
   "metadata": {},
   "outputs": [
    {
     "data": {
      "text/plain": [
       "Text(0.5, 1.0, 'All types Prediction of XGBR MAPE: 23.07, MAE:27.66, RMSE:35.59')"
      ]
     },
     "execution_count": 54,
     "metadata": {},
     "output_type": "execute_result"
    },
    {
     "data": {
      "image/png": "[encoded data removed]",
      "text/plain": [
       "<Figure size 432x288 with 1 Axes>"
      ]
     },
     "metadata": {
      "needs_background": "light"
     },
     "output_type": "display_data"
    }
   ],
   "source": [
    "####Plot\n",
    "fig, ax = plt.subplots()\n",
    "sns.scatterplot(data=XGBR_prediction, x='Actual_mg/dl',y='Predict_mg/dl', hue='Type')\n",
    "plt.plot([-50, 650], [-50, 650], color = 'red', linewidth = 2)\n",
    "plt.xlim(-0.05, 650)\n",
    "plt.ylim(-0.05, 650)\n",
    "all_sample_title =f'All types Prediction of XGBR MAPE: {XGBR_MAPE}, MAE:{XGBR_MAE}, RMSE:{XGBR_RMSE}'\n",
    "ax.set_title(all_sample_title, size = 13)"
   ]
  },
  {
   "cell_type": "code",
   "execution_count": 55,
   "metadata": {},
   "outputs": [
    {
     "name": "stdout",
     "output_type": "stream",
     "text": [
      "MAE:  27.71\n",
      "MSE:  1275.6\n",
      "MAPE:  23.17\n",
      "RMSE:  35.72\n",
      "   Predict_mg/dl\n",
      "0     127.305382\n",
      "1     142.356247\n",
      "2     138.745193\n",
      "3     113.557014\n",
      "4     160.235962\n",
      "   Predict_mg/dl  Actual_mg/dl\n",
      "0     127.305382        101.40\n",
      "1     142.356247        113.25\n",
      "2     138.745193        163.50\n",
      "3     113.557014        154.75\n",
      "4     160.235962        175.50\n",
      "(356, 2)\n"
     ]
    },
    {
     "data": {
      "image/png": "[encoded data removed]",
      "text/plain": [
       "<Figure size 432x288 with 1 Axes>"
      ]
     },
     "metadata": {
      "needs_background": "light"
     },
     "output_type": "display_data"
    }
   ],
   "source": [
    "### R1 testing\n",
    "Y_predict_XGBR_R1 = search_XGBR.predict(X_data_R1_V)   \n",
    "\n",
    "###Original nparray dimension is 2\n",
    "###Reduce 2 to 1 dimension\n",
    "#Y_predict_lr_R1 = Y_predict_lr_R1.flatten()\n",
    "#print(Y_predict_lr_R1.shape)\n",
    "\n",
    "####checking performance\n",
    "\n",
    "\n",
    "XGBR_RMSE_R1 =round( mean_squared_error(Y_data_R1_V, Y_predict_XGBR_R1, squared=False),2)\n",
    "print(\"RMSE: \",XGBR_RMSE_R1)\n",
    "\n",
    "XGBR_prediction_R1 = pd.DataFrame(Y_predict_XGBR_R1, columns =['Predict_mg/dl']) \n",
    "print(XGBR_prediction_R1.head()) \n",
    "\n",
    "#####\n",
    "XGBR_prediction_R1 = pd.concat([XGBR_prediction_R1,Y_data_R1_V],axis=1)\n",
    "XGBR_prediction_R1.rename(columns={'Concentration':'Actual_mg/dl'}, inplace =True)\n",
    "# # f_XGBR_test.rename(columns={\"0\":\"Predict_mg/dl\",\"1\":\"Actual_mg/dl \"}, inplace= True)\n",
    "print(XGBR_prediction_R1.head())\n",
    "print(XGBR_prediction_R1.shape)\n",
    "\n",
    "####Plot\n",
    "fig, ax = plt.subplots()\n",
    "sns.scatterplot(data=XGBR_prediction_R1, x='Actual_mg/dl',y='Predict_mg/dl')\n",
    "# xpoints = ypoints = plt.xlim()\n",
    "# plt.plot(xpoints, ypoints, linestyle='--', color='r', lw=3, scalex=False, scaley=False)\n",
    "plt.plot([0, 650], [0, 650], color = 'red', linewidth = 2)\n",
    "plt.xlim(-0.05, 650)\n",
    "plt.ylim(-0.05, 650)\n",
    "all_sample_title =f'R1 Prediction of XGBR MAPE: {XGBR_MAPE_R1}, MAE:{XGBR_MAE_R1}, RMSE:{XGBR_RMSE_R1}'\n",
    "ax.set_title(all_sample_title, size = 13)\n",
    "\n",
    "plt.show()"
   ]
  },
  {
   "cell_type": "code",
   "execution_count": 56,
   "metadata": {},
   "outputs": [
    {
     "name": "stdout",
     "output_type": "stream",
     "text": [
      "MAE:  27.14\n",
      "MSE:  1169.11\n",
      "MAPE:  21.98\n",
      "RMSE:  34.19\n",
      "   Predict_mg/dl\n",
      "0     121.660706\n",
      "1     129.958237\n",
      "2     144.792648\n",
      "3     134.333054\n",
      "4     125.447197\n",
      "   Predict_mg/dl  Actual_mg/dl\n",
      "0     121.660706        75.625\n",
      "1     129.958237        93.100\n",
      "2     144.792648       123.000\n",
      "3     134.333054        96.450\n",
      "4     125.447197       139.000\n",
      "(32, 2)\n"
     ]
    },
    {
     "data": {
      "image/png": "[encoded data removed]",
      "text/plain": [
       "<Figure size 432x288 with 1 Axes>"
      ]
     },
     "metadata": {
      "needs_background": "light"
     },
     "output_type": "display_data"
    }
   ],
   "source": [
    "### R2 testing\n",
    "Y_predict_XGBR_R2 = search_XGBR.predict(X_data_R2_V)   \n",
    "\n",
    "###Original nparray dimension is 2\n",
    "###Reduce 2 to 1 dimension\n",
    "#Y_predict_lr_R1 = Y_predict_lr_R1.flatten()\n",
    "#print(Y_predict_lr_R1.shape)\n",
    "\n",
    "####checking performance\n",
    "\n",
    "XGBR_MAE_R2 = round(mean_absolute_error(Y_data_R2_V, Y_predict_XGBR_R2), 2)\n",
    "print(\"MAE: \",XGBR_MAE_R2)\n",
    "XGBR_MSE_R2 =round( mean_squared_error(Y_data_R2_V,Y_predict_XGBR_R2),2)\n",
    "print(\"MSE: \",XGBR_MSE_R2)\n",
    "XGBR_MAPE_R2= round(MAPE(Y_data_R2_V, Y_predict_XGBR_R2),2)\n",
    "print(\"MAPE: \",XGBR_MAPE_R2)\n",
    "XGBR_RMSE_R2 =round( mean_squared_error(Y_data_R2_V, Y_predict_XGBR_R2, squared=False),2)\n",
    "print(\"RMSE: \",XGBR_RMSE_R2)\n",
    "\n",
    "XGBR_prediction_R2 = pd.DataFrame(Y_predict_XGBR_R2, columns =['Predict_mg/dl']) \n",
    "print(XGBR_prediction_R2.head()) \n",
    "\n",
    "#####\n",
    "XGBR_prediction_R2 = pd.concat([XGBR_prediction_R2,Y_data_R2_V],axis=1)\n",
    "XGBR_prediction_R2.rename(columns={'Concentration':'Actual_mg/dl'}, inplace =True)\n",
    "# # f_XGBR_test.rename(columns={\"0\":\"Predict_mg/dl\",\"1\":\"Actual_mg/dl \"}, inplace= True)\n",
    "print(XGBR_prediction_R2.head())\n",
    "print(XGBR_prediction_R2.shape)\n",
    "\n",
    "####Plot\n",
    "fig, ax = plt.subplots()\n",
    "sns.scatterplot(data=XGBR_prediction_R2, x='Actual_mg/dl',y='Predict_mg/dl')\n",
    "# xpoints = ypoints = plt.xlim()\n",
    "# plt.plot(xpoints, ypoints, linestyle='--', color='r', lw=3, scalex=False, scaley=False)\n",
    "plt.plot([0, 650], [0, 650], color = 'red', linewidth = 2)\n",
    "plt.xlim(-0.05, 650)\n",
    "plt.ylim(-0.05, 650)\n",
    "all_sample_title =f'R2 Prediction of XGBR MAPE: {XGBR_MAPE_R2}, MAE:{XGBR_MAE_R2}, RMSE:{XGBR_RMSE_R2}'\n",
    "ax.set_title(all_sample_title, size = 13)\n",
    "\n",
    "plt.show()"
   ]
  },
  {
   "cell_type": "code",
   "execution_count": null,
   "metadata": {},
   "outputs": [],
   "source": []
  },
  {
   "cell_type": "code",
   "execution_count": 65,
   "metadata": {},
   "outputs": [
    {
     "name": "stderr",
     "output_type": "stream",
     "text": [
      "c:\\Users\\Gerry\\anaconda3\\lib\\site-packages\\sklearn\\linear_model\\_coordinate_descent.py:530: ConvergenceWarning: Objective did not converge. You might want to increase the number of iterations. Duality gap: 49780.01454482146, tolerance: 51.08347804877568\n",
      "  model = cd_fast.enet_coordinate_descent(\n"
     ]
    },
    {
     "data": {
      "text/plain": [
       "{'alpha': 1e-08}"
      ]
     },
     "execution_count": 65,
     "metadata": {},
     "output_type": "execute_result"
    }
   ],
   "source": [
    "# Performing GridSearchCV with Cross Validation technique on Lasso Regression and finding the optimum value of alpha\n",
    "\n",
    "params_grid_lasso = {'alpha': (np.logspace(-8, 8, 100))} # It will check from 1e-08 to 1e+08\n",
    "\n",
    "lasso = Lasso(normalize=True)\n",
    "\n",
    "search_lasso = GridSearchCV(lasso,params_grid_lasso, \n",
    "                       cv=5,\n",
    "                       scoring = 'neg_mean_squared_error',\n",
    "                       n_jobs= 8,\n",
    "                       )\n",
    "\n",
    "search_lasso.fit(X_data2_T, Y_data2_T)\n",
    "\n",
    "Y_predict_lasso = search_lasso.predict(X_data_V) \n",
    "search_lasso.best_params_####最好的參數"
   ]
  },
  {
   "cell_type": "code",
   "execution_count": 66,
   "metadata": {},
   "outputs": [
    {
     "name": "stdout",
     "output_type": "stream",
     "text": [
      "MAE:  15.49\n",
      "MSE:  466.85\n",
      "MAPE:  13.1\n",
      "RMSE:  21.61\n"
     ]
    }
   ],
   "source": [
    "\n",
    "lasso_RMSE = round(mean_squared_error(Y_data_V, Y_predict_lasso, squared=False),2)\n",
    "print(\"RMSE: \",lasso_RMSE)"
   ]
  },
  {
   "cell_type": "code",
   "execution_count": 67,
   "metadata": {},
   "outputs": [
    {
     "name": "stdout",
     "output_type": "stream",
     "text": [
      "   Predict_mg/dl\n",
      "0      90.686902\n",
      "1      97.393814\n",
      "2     130.396644\n",
      "3     109.398492\n",
      "4     138.331205\n"
     ]
    }
   ],
   "source": [
    "lasso_prediction = pd.DataFrame(Y_predict_lasso, columns =['Predict_mg/dl']) \n",
    "print(lasso_prediction.head()) "
   ]
  },
  {
   "cell_type": "code",
   "execution_count": 68,
   "metadata": {},
   "outputs": [
    {
     "name": "stdout",
     "output_type": "stream",
     "text": [
      "   Predict_mg/dl  Actual_mg/dl       Type\n",
      "0      90.686902        101.40  Cowley_R1\n",
      "1      97.393814        113.25  Cowley_R1\n",
      "2     130.396644        163.50  Cowley_R1\n",
      "3     109.398492        154.75  Cowley_R1\n",
      "4     138.331205        175.50  Cowley_R1\n",
      "(388, 3)\n"
     ]
    }
   ],
   "source": [
    "\n",
    "\n",
    "lasso_prediction= pd.concat([lasso_prediction,Y_data_V],axis=1)\n",
    "lasso_prediction.rename(columns={'Concentration':'Actual_mg/dl'}, inplace =True)\n",
    "lasso_prediction = pd.concat([lasso_prediction,Type_data_V],axis=1)\n",
    "# # f_rfr_test.rename(columns={\"0\":\"Predict_mg/dl\",\"1\":\"Actual_mg/dl \"}, inplace= True)\n",
    "print(lasso_prediction.head())\n",
    "print(lasso_prediction.shape)"
   ]
  },
  {
   "cell_type": "code",
   "execution_count": 69,
   "metadata": {},
   "outputs": [
    {
     "data": {
      "text/plain": [
       "Text(0.5, 1.0, 'All types Prediction of lasso MAPE: 13.1, MAE:15.49, RMSE:21.61')"
      ]
     },
     "execution_count": 69,
     "metadata": {},
     "output_type": "execute_result"
    },
    {
     "data": {
      "image/png": "[encoded data removed]",
      "text/plain": [
       "<Figure size 432x288 with 1 Axes>"
      ]
     },
     "metadata": {
      "needs_background": "light"
     },
     "output_type": "display_data"
    }
   ],
   "source": [
    "####Plot\n",
    "fig, ax = plt.subplots()\n",
    "sns.scatterplot(data=lasso_prediction, x='Actual_mg/dl',y='Predict_mg/dl', hue='Type')\n",
    "plt.plot([-50, 650], [-50, 650], color = 'red', linewidth = 2)\n",
    "plt.xlim(-0.05, 650)\n",
    "plt.ylim(-0.05, 650)\n",
    "all_sample_title =f'All types Prediction of lasso MAPE: {lasso_MAPE}, MAE:{lasso_MAE}, RMSE:{lasso_RMSE}'\n",
    "ax.set_title(all_sample_title, size = 13)"
   ]
  },
  {
   "cell_type": "code",
   "execution_count": 70,
   "metadata": {},
   "outputs": [
    {
     "name": "stdout",
     "output_type": "stream",
     "text": [
      "MAE:  15.47\n",
      "MSE:  478.12\n",
      "MAPE:  13.16\n",
      "RMSE:  21.87\n",
      "   Predict_mg/dl\n",
      "0      90.686902\n",
      "1      97.393814\n",
      "2     130.396644\n",
      "3     109.398492\n",
      "4     138.331205\n",
      "   Predict_mg/dl  Actual_mg/dl\n",
      "0      90.686902        101.40\n",
      "1      97.393814        113.25\n",
      "2     130.396644        163.50\n",
      "3     109.398492        154.75\n",
      "4     138.331205        175.50\n",
      "(356, 2)\n"
     ]
    },
    {
     "data": {
      "image/png": "[encoded data removed]",
      "text/plain": [
       "<Figure size 432x288 with 1 Axes>"
      ]
     },
     "metadata": {
      "needs_background": "light"
     },
     "output_type": "display_data"
    }
   ],
   "source": [
    "### R1 testing\n",
    "Y_predict_lasso_R1 = search_lasso.predict(X_data_R1_V)   \n",
    "\n",
    "###Original nparray dimension is 2\n",
    "###Reduce 2 to 1 dimension\n",
    "#Y_predict_lr_R1 = Y_predict_lr_R1.flatten()\n",
    "#print(Y_predict_lr_R1.shape)\n",
    "\n",
    "####checking performance\n",
    "\n",
    "\n",
    "lasso_RMSE_R1 =round( mean_squared_error(Y_data_R1_V, Y_predict_lasso_R1, squared=False),2)\n",
    "print(\"RMSE: \",lasso_RMSE_R1)\n",
    "\n",
    "lasso_prediction_R1 = pd.DataFrame(Y_predict_lasso_R1, columns =['Predict_mg/dl']) \n",
    "print(lasso_prediction_R1.head()) \n",
    "\n",
    "#####\n",
    "lasso_prediction_R1 = pd.concat([lasso_prediction_R1,Y_data_R1_V],axis=1)\n",
    "lasso_prediction_R1.rename(columns={'Concentration':'Actual_mg/dl'}, inplace =True)\n",
    "# # f_XGBR_test.rename(columns={\"0\":\"Predict_mg/dl\",\"1\":\"Actual_mg/dl \"}, inplace= True)\n",
    "print(lasso_prediction_R1.head())\n",
    "print(lasso_prediction_R1.shape)\n",
    "\n",
    "####Plot\n",
    "fig, ax = plt.subplots()\n",
    "sns.scatterplot(data=lasso_prediction_R1, x='Actual_mg/dl',y='Predict_mg/dl')\n",
    "# xpoints = ypoints = plt.xlim()\n",
    "# plt.plot(xpoints, ypoints, linestyle='--', color='r', lw=3, scalex=False, scaley=False)\n",
    "plt.plot([0, 650], [0, 650], color = 'red', linewidth = 2)\n",
    "plt.xlim(-0.05, 650)\n",
    "plt.ylim(-0.05, 650)\n",
    "all_sample_title =f'R1 Prediction of lasso MAPE: {lasso_MAPE_R1}, MAE:{lasso_MAE_R1}, RMSE:{lasso_RMSE_R1}'\n",
    "ax.set_title(all_sample_title, size = 13)\n",
    "\n",
    "plt.show()"
   ]
  },
  {
   "cell_type": "code",
   "execution_count": 71,
   "metadata": {},
   "outputs": [
    {
     "name": "stdout",
     "output_type": "stream",
     "text": [
      "MAE:  15.73\n",
      "MSE:  341.53\n",
      "MAPE:  12.43\n",
      "RMSE:  18.48\n",
      "   Predict_mg/dl\n",
      "0      91.389513\n",
      "1      85.574066\n",
      "2      90.645881\n",
      "3      80.189136\n",
      "4     108.980036\n",
      "   Predict_mg/dl  Actual_mg/dl\n",
      "0      91.389513        75.625\n",
      "1      85.574066        93.100\n",
      "2      90.645881       123.000\n",
      "3      80.189136        96.450\n",
      "4     108.980036       139.000\n",
      "(32, 2)\n"
     ]
    },
    {
     "data": {
      "image/png": "[encoded data removed]",
      "text/plain": [
       "<Figure size 432x288 with 1 Axes>"
      ]
     },
     "metadata": {
      "needs_background": "light"
     },
     "output_type": "display_data"
    }
   ],
   "source": [
    "### R2 testing\n",
    "Y_predict_lasso_R2 = search_lasso.predict(X_data_R2_V)   \n",
    "\n",
    "###Original nparray dimension is 2\n",
    "###Reduce 2 to 1 dimension\n",
    "#Y_predict_lr_R1 = Y_predict_lr_R1.flatten()\n",
    "#print(Y_predict_lr_R1.shape)\n",
    "\n",
    "####checking performance\n",
    "\n",
    "\n",
    "lasso_RMSE_R2 =round( mean_squared_error(Y_data_R2_V, Y_predict_lasso_R2, squared=False),2)\n",
    "print(\"RMSE: \",lasso_RMSE_R2)\n",
    "\n",
    "lasso_prediction_R2 = pd.DataFrame(Y_predict_lasso_R2, columns =['Predict_mg/dl']) \n",
    "print(lasso_prediction_R2.head()) \n",
    "\n",
    "#####\n",
    "lasso_prediction_R2 = pd.concat([lasso_prediction_R2,Y_data_R2_V],axis=1)\n",
    "lasso_prediction_R2.rename(columns={'Concentration':'Actual_mg/dl'}, inplace =True)\n",
    "# # f_XGBR_test.rename(columns={\"0\":\"Predict_mg/dl\",\"1\":\"Actual_mg/dl \"}, inplace= True)\n",
    "print(lasso_prediction_R2.head())\n",
    "print(lasso_prediction_R2.shape)\n",
    "\n",
    "####Plot\n",
    "fig, ax = plt.subplots()\n",
    "sns.scatterplot(data=lasso_prediction_R2, x='Actual_mg/dl',y='Predict_mg/dl')\n",
    "# xpoints = ypoints = plt.xlim()\n",
    "# plt.plot(xpoints, ypoints, linestyle='--', color='r', lw=3, scalex=False, scaley=False)\n",
    "plt.plot([0, 650], [0, 650], color = 'red', linewidth = 2)\n",
    "plt.xlim(-0.05, 650)\n",
    "plt.ylim(-0.05, 650)\n",
    "all_sample_title =f'R2 Prediction of lasso MAPE: {lasso_MAPE_R2}, MAE:{lasso_MAE_R2}, RMSE:{lasso_RMSE_R2}'\n",
    "ax.set_title(all_sample_title, size = 13)\n",
    "\n",
    "plt.show()"
   ]
  },
  {
   "cell_type": "code",
   "execution_count": 78,
   "metadata": {},
   "outputs": [
    {
     "name": "stdout",
     "output_type": "stream",
     "text": [
      "  Algorithm  RMSE Without Classification  RMSE With Classification\n",
      "0       PLS                        20.18                     18.29\n",
      "1     Lasso                        21.87                     15.81\n",
      "2      XGBR                        35.72                     35.70\n",
      "  Algorithm  RMSE Without Classification  RMSE With Classification\n",
      "0       PLS                        19.26                     18.18\n",
      "1     Lasso                        18.48                     13.47\n",
      "2       XGB                        34.19                     32.18\n"
     ]
    }
   ],
   "source": [
    "###整理出三個來比較\n",
    "# Plot the R1 predictions for each model\n",
    "\n",
    "RMSE_comparison_R1_3={\"Algorithm\":['PLS','Lasso','XGBR'], \"RMSE Without Classification\":[PLS_RMSE_R1,lasso_RMSE_R1,XGBR_RMSE_R1], \n",
    "\"RMSE With Classification\":[18.29,15.81,35.70]}\n",
    "RMSE_comparison_R1_3=pd.DataFrame(data=RMSE_comparison_R1_3)\n",
    "print(RMSE_comparison_R1_3)\n",
    "\n",
    "\n",
    "RMSE_comparison_R2_3={\"Algorithm\":['PLS','Lasso','XGB'], \"RMSE Without Classification\":[PLS_RMSE_R2,lasso_RMSE_R2,XGBR_RMSE_R2], \n",
    "\"RMSE With Classification\":[18.18,13.47,32.18]}\n",
    "RMSE_comparison_R2_3=pd.DataFrame(data=RMSE_comparison_R2_3)\n",
    "print(RMSE_comparison_R2_3)"
   ]
  },
  {
   "cell_type": "code",
   "execution_count": 94,
   "metadata": {},
   "outputs": [
    {
     "data": {
      "image/png": "[encoded data removed]",
      "text/plain": [
       "<Figure size 1440x576 with 1 Axes>"
      ]
     },
     "metadata": {
      "needs_background": "light"
     },
     "output_type": "display_data"
    }
   ],
   "source": [
    "f, ax = plt.subplots(figsize=(20, 8))\n",
    "N=3\n",
    "ind = np.arange(N) \n",
    "width = 0.35   \n",
    "\n",
    "P1=ax.bar(ind,RMSE_comparison_R1_3[\"RMSE Without Classification\"], width, label=\"RMSE Without Classification\")\n",
    "P2=ax.bar(ind + width, RMSE_comparison_R1_3[\"RMSE With Classification\"], width, label=\"RMSE With Classification\")\n",
    "\n",
    "plt.ylabel('RMSE', size=20, labelpad=12.5)\n",
    "plt.xlabel('Method', size=20, labelpad=12.5)\n",
    "plt.title('RMSE of Models_Normal ICU Patients', size=20)\n",
    "\n",
    "ax.set_xticks(ind + width / 2)\n",
    "ax.set_xticklabels(RMSE_comparison_R1_3[\"Algorithm\"])\n",
    "ax.legend()\n",
    "\n",
    "y=RMSE_comparison_R1_3[\"RMSE Without Classification\"]\n",
    "xlocs=RMSE_comparison_R1_3[\"Algorithm\"]\n",
    "\n",
    "ax.bar_label(P1, padding=3)\n",
    "ax.bar_label(P2, padding=3)\n",
    "\n",
    "plt.show()"
   ]
  },
  {
   "cell_type": "code",
   "execution_count": 96,
   "metadata": {},
   "outputs": [
    {
     "data": {
      "image/png": "[encoded data removed]",
      "text/plain": [
       "<Figure size 1440x576 with 1 Axes>"
      ]
     },
     "metadata": {
      "needs_background": "light"
     },
     "output_type": "display_data"
    }
   ],
   "source": [
    "f, ax = plt.subplots(figsize=(20, 8))\n",
    "N=3\n",
    "ind = np.arange(N) \n",
    "width = 0.35   \n",
    "\n",
    "P3=ax.bar(ind,RMSE_comparison_R2_3[\"RMSE Without Classification\"], width, label=\"RMSE Without Classification\")\n",
    "P4=ax.bar(ind + width, RMSE_comparison_R2_3[\"RMSE With Classification\"], width, label=\"RMSE With Classification\")\n",
    "\n",
    "plt.ylabel('RMSE', size=20, labelpad=12.5)\n",
    "plt.xlabel('Method', size=20, labelpad=12.5)\n",
    "plt.title('RMSE of Models_ICU Patients with Hetastarch', size=20)\n",
    "\n",
    "ax.set_xticks(ind + width / 2)\n",
    "ax.set_xticklabels(RMSE_comparison_R2_3[\"Algorithm\"])\n",
    "ax.legend(loc = \"upper left\")\n",
    "\n",
    "\n",
    "\n",
    "ax.bar_label(P3, padding=3)\n",
    "ax.bar_label(P4, padding=3)\n",
    "fig.tight_layout()\n",
    "\n",
    "plt.show()"
   ]
  },
  {
   "cell_type": "code",
   "execution_count": null,
   "metadata": {},
   "outputs": [],
   "source": []
  }
 ],
 "metadata": {
  "kernelspec": {
   "display_name": "Python 3.8.8 ('base')",
   "language": "python",
   "name": "python3"
  },
  "language_info": {
   "codemirror_mode": {
    "name": "ipython",
    "version": 3
   },
   "file_extension": ".py",
   "mimetype": "text/x-python",
   "name": "python",
   "nbconvert_exporter": "python",
   "pygments_lexer": "ipython3",
   "version": "3.10.9"
  },
  "orig_nbformat": 4,
  "vscode": {
   "interpreter": {
    "hash": "905d2aef39439ab295d2d01e75604ff90598299359f07a9d82e3c861ad926ad0"
   }
  }
 },
 "nbformat": 4,
 "nbformat_minor": 2
}
